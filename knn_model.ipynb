{
 "cells": [
  {
   "cell_type": "code",
   "execution_count": 1,
   "id": "7771e5a8-df02-439e-acd4-c7dc1208727d",
   "metadata": {
    "tags": []
   },
   "outputs": [],
   "source": [
    "import warnings\n",
    "warnings.filterwarnings(\"ignore\")\n",
    "\n",
    "import pandas as pd\n",
    "import numpy as np\n",
    "\n",
    "%matplotlib inline\n",
    "import matplotlib.pyplot as plt\n",
    "import seaborn as sns\n",
    "\n",
    "from sklearn.model_selection import train_test_split\n",
    "from sklearn.neighbors import KNeighborsClassifier\n",
    "from sklearn.metrics import classification_report\n",
    "from sklearn.metrics import confusion_matrix, ConfusionMatrixDisplay\n",
    "\n",
    "from acquire import get_titanic_data\n",
    "\n",
    "from pydataset import data\n",
    "from prepare import tvt"
   ]
  },
  {
   "cell_type": "markdown",
   "id": "1c7f9eb3-23fb-40ed-b91f-a44d234dfe0f",
   "metadata": {},
   "source": [
    "# Exercises"
   ]
  },
  {
   "cell_type": "markdown",
   "id": "a014b0a5-8f6a-4513-acc8-c4bd303e872c",
   "metadata": {},
   "source": [
    "## Create a new notebook, knn_model, and work with the titanic dataset to answer the following:"
   ]
  },
  {
   "cell_type": "code",
   "execution_count": 2,
   "id": "2f7cfbf9-fd4a-4059-b55e-03ba7e376887",
   "metadata": {
    "tags": []
   },
   "outputs": [],
   "source": [
    "# Acquire dataframe \n",
    "df = get_titanic_data()"
   ]
  },
  {
   "cell_type": "code",
   "execution_count": 3,
   "id": "54a89325-d229-4120-b2ab-94d891a284c0",
   "metadata": {
    "tags": []
   },
   "outputs": [],
   "source": [
    "# calling already defined functions\n",
    "def dropped(titanic,columns={'sepal_length', 'petal_width'}):\n",
    "    '''\n",
    "    dropped will take the dataframe and remove any columns that are indicated,\n",
    "    hopefully making the process faster\n",
    "    '''\n",
    "    titanic = titanic.drop(columns=columns)\n",
    "    return titanic\n",
    "\n",
    "def prep_titanic(titanic):\n",
    "    '''\n",
    "    prep_titanic will do all the cleaning we need of the database 'titanic_db'.\n",
    "    It will:\n",
    "    - drop unnecessary columns ('deck', 'embark_town', 'pclass')\n",
    "    - fill in null values from columns (embarked' and 'age')\n",
    "    - create dummy variables for the categorical columns 'sex', 'embarked', and 'class'\n",
    "    - concatenate the previous dataframe to the new ones with dummy variables\n",
    "    \n",
    "    return: concatenated and cleaned dataframe 'titanic_db' as 'df'\n",
    "    '''\n",
    "    titanic = dropped(titanic,columns={'deck', 'embark_town', 'pclass', 'passenger_id'})\n",
    "    round(titanic['age'].mean())\n",
    "    top_embarked = titanic['embarked'].describe()['top']\n",
    "    titanic['embarked'] = titanic['embarked'].fillna(value='S')\n",
    "    titanic['age'] = titanic['age'].fillna(value='30').astype(int)\n",
    "    titanic['sex_encoded'] = titanic['sex'].map({'male': 1, 'female': 0})\n",
    "    titanic['embarked_encoded'] = titanic['embarked'].map({'S': 1, 'C': 0, 'Q':2})\n",
    "    titanic['class_encoded'] = titanic['class'].map({'Second': 1, 'First': 0, 'Third':2})\n",
    "    titanic = dropped(titanic,columns={'sex', 'embarked', 'class'})\n",
    "    return titanic\n",
    "\n",
    "def print_and_label(df):\n",
    "    '''\n",
    "    print_and_label will take a confusion matrix and by indexing, will store and calculate certain criteria for you.\n",
    "    return: accuracy, true positive rate, false positive rate, true negative rate, false negative rate, precision, recall, f1-score, and support.\n",
    "    '''\n",
    "    TP = neo['0_actual']['0_predicted']\n",
    "    FP = neo['1_actual']['0_predicted']\n",
    "    FN = neo['0_actual']['1_predicted']\n",
    "    TN = neo['1_actual']['1_predicted']\n",
    "    neo_accuracy = (TP+TN)/(TP+FP+TN+FN)\n",
    "    neo_precision = (TP)/(TP+FP)\n",
    "    neo_recall = (TP)/(TP+FN)\n",
    "    TPR = (TP)/(TP+FP)\n",
    "    FPR = (FP)/(FP+TN)\n",
    "    TNR = (TN)/(FP+TN)\n",
    "    FNR = (FN)/(FN+TP)\n",
    "    neo_support_0 = TP + FN\n",
    "    neo_support_1 = FP + TN\n",
    "    neo_f1 =  2 * ((neo_precision * neo_recall) / (neo_precision + neo_recall))\n",
    "    return print(f'Accuracy: \\n{neo_accuracy:2%}\\n\\nTrue Positive Rate: \\n{TPR:2%}\\\n",
    "    \\n\\nFalse Positive Rate: \\n{FPR:2%}\\n\\nTrue Negative Rate: \\n{TNR:2%}\\\n",
    "    \\n\\nFalse Negative Rate: \\n{FNR:2%}\\n\\nPrecision: \\n{neo_precision:2%}\\\n",
    "    \\n\\nRecall: \\n{neo_recall:2%}\\n\\nF1 Score: \\n{neo_f1:2%}\\\n",
    "    \\n\\nSupport for Did Not Survive: \\n{neo_support_0}\\n\\nSupport for Did Survive: \\n{neo_support_1}')"
   ]
  },
  {
   "cell_type": "code",
   "execution_count": 4,
   "id": "8ccb0f78-732b-4eda-a514-3ebf86d51b62",
   "metadata": {
    "tags": []
   },
   "outputs": [],
   "source": [
    "titanic = prep_titanic(df)"
   ]
  },
  {
   "cell_type": "code",
   "execution_count": 5,
   "id": "31c2260c-d68d-418a-9e82-7268f196d5f1",
   "metadata": {
    "tags": []
   },
   "outputs": [
    {
     "data": {
      "text/html": [
       "<div>\n",
       "<style scoped>\n",
       "    .dataframe tbody tr th:only-of-type {\n",
       "        vertical-align: middle;\n",
       "    }\n",
       "\n",
       "    .dataframe tbody tr th {\n",
       "        vertical-align: top;\n",
       "    }\n",
       "\n",
       "    .dataframe thead th {\n",
       "        text-align: right;\n",
       "    }\n",
       "</style>\n",
       "<table border=\"1\" class=\"dataframe\">\n",
       "  <thead>\n",
       "    <tr style=\"text-align: right;\">\n",
       "      <th></th>\n",
       "      <th>survived</th>\n",
       "      <th>age</th>\n",
       "      <th>sibsp</th>\n",
       "      <th>parch</th>\n",
       "      <th>fare</th>\n",
       "      <th>alone</th>\n",
       "      <th>sex_encoded</th>\n",
       "      <th>embarked_encoded</th>\n",
       "      <th>class_encoded</th>\n",
       "    </tr>\n",
       "  </thead>\n",
       "  <tbody>\n",
       "    <tr>\n",
       "      <th>0</th>\n",
       "      <td>0</td>\n",
       "      <td>22</td>\n",
       "      <td>1</td>\n",
       "      <td>0</td>\n",
       "      <td>7.2500</td>\n",
       "      <td>0</td>\n",
       "      <td>1</td>\n",
       "      <td>1</td>\n",
       "      <td>2</td>\n",
       "    </tr>\n",
       "    <tr>\n",
       "      <th>1</th>\n",
       "      <td>1</td>\n",
       "      <td>38</td>\n",
       "      <td>1</td>\n",
       "      <td>0</td>\n",
       "      <td>71.2833</td>\n",
       "      <td>0</td>\n",
       "      <td>0</td>\n",
       "      <td>0</td>\n",
       "      <td>0</td>\n",
       "    </tr>\n",
       "    <tr>\n",
       "      <th>2</th>\n",
       "      <td>1</td>\n",
       "      <td>26</td>\n",
       "      <td>0</td>\n",
       "      <td>0</td>\n",
       "      <td>7.9250</td>\n",
       "      <td>1</td>\n",
       "      <td>0</td>\n",
       "      <td>1</td>\n",
       "      <td>2</td>\n",
       "    </tr>\n",
       "    <tr>\n",
       "      <th>3</th>\n",
       "      <td>1</td>\n",
       "      <td>35</td>\n",
       "      <td>1</td>\n",
       "      <td>0</td>\n",
       "      <td>53.1000</td>\n",
       "      <td>0</td>\n",
       "      <td>0</td>\n",
       "      <td>1</td>\n",
       "      <td>0</td>\n",
       "    </tr>\n",
       "    <tr>\n",
       "      <th>4</th>\n",
       "      <td>0</td>\n",
       "      <td>35</td>\n",
       "      <td>0</td>\n",
       "      <td>0</td>\n",
       "      <td>8.0500</td>\n",
       "      <td>1</td>\n",
       "      <td>1</td>\n",
       "      <td>1</td>\n",
       "      <td>2</td>\n",
       "    </tr>\n",
       "  </tbody>\n",
       "</table>\n",
       "</div>"
      ],
      "text/plain": [
       "   survived  age  sibsp  parch     fare  alone  sex_encoded  embarked_encoded  \\\n",
       "0         0   22      1      0   7.2500      0            1                 1   \n",
       "1         1   38      1      0  71.2833      0            0                 0   \n",
       "2         1   26      0      0   7.9250      1            0                 1   \n",
       "3         1   35      1      0  53.1000      0            0                 1   \n",
       "4         0   35      0      0   8.0500      1            1                 1   \n",
       "\n",
       "   class_encoded  \n",
       "0              2  \n",
       "1              0  \n",
       "2              2  \n",
       "3              0  \n",
       "4              2  "
      ]
     },
     "execution_count": 5,
     "metadata": {},
     "output_type": "execute_result"
    }
   ],
   "source": [
    "titanic.head()"
   ]
  },
  {
   "cell_type": "markdown",
   "id": "665a9a0e-a70c-43a4-b2fa-6dd4e3a7a044",
   "metadata": {},
   "source": [
    "### Fit a K-Nearest Neighbors classifier to your training sample and transform (i.e. make predictions on the training sample)"
   ]
  },
  {
   "cell_type": "code",
   "execution_count": 6,
   "id": "328a2f48-e709-499c-aa52-e0d81d02b623",
   "metadata": {
    "tags": []
   },
   "outputs": [
    {
     "data": {
      "text/plain": [
       "0.6161616161616161"
      ]
     },
     "execution_count": 6,
     "metadata": {},
     "output_type": "execute_result"
    }
   ],
   "source": [
    "# establishing baseline\n",
    "baseline_accuracy = (titanic['survived'].value_counts().idxmax() == titanic.survived).mean()\n",
    "baseline_accuracy"
   ]
  },
  {
   "cell_type": "code",
   "execution_count": 7,
   "id": "466926e0-d672-48d5-9d92-0e836f553362",
   "metadata": {
    "tags": []
   },
   "outputs": [],
   "source": [
    "train, validate, test = tvt(titanic, ['survived'])\n",
    "\n",
    "X_train = train.drop(columns=['survived'])\n",
    "y_train = train.survived\n",
    "\n",
    "X_validate = validate.drop(columns=['survived'])\n",
    "y_validate = validate.survived\n",
    "\n",
    "X_test = test.drop(columns=['survived'])\n",
    "y_test = test.survived"
   ]
  },
  {
   "cell_type": "code",
   "execution_count": 8,
   "id": "80fd2f1a-84f4-41ea-ae36-3160a96a20d0",
   "metadata": {
    "tags": []
   },
   "outputs": [
    {
     "data": {
      "text/html": [
       "<div>\n",
       "<style scoped>\n",
       "    .dataframe tbody tr th:only-of-type {\n",
       "        vertical-align: middle;\n",
       "    }\n",
       "\n",
       "    .dataframe tbody tr th {\n",
       "        vertical-align: top;\n",
       "    }\n",
       "\n",
       "    .dataframe thead th {\n",
       "        text-align: right;\n",
       "    }\n",
       "</style>\n",
       "<table border=\"1\" class=\"dataframe\">\n",
       "  <thead>\n",
       "    <tr style=\"text-align: right;\">\n",
       "      <th></th>\n",
       "      <th>age</th>\n",
       "      <th>sibsp</th>\n",
       "      <th>parch</th>\n",
       "      <th>fare</th>\n",
       "      <th>alone</th>\n",
       "      <th>sex_encoded</th>\n",
       "      <th>embarked_encoded</th>\n",
       "      <th>class_encoded</th>\n",
       "    </tr>\n",
       "  </thead>\n",
       "  <tbody>\n",
       "    <tr>\n",
       "      <th>72</th>\n",
       "      <td>21</td>\n",
       "      <td>0</td>\n",
       "      <td>0</td>\n",
       "      <td>73.5000</td>\n",
       "      <td>1</td>\n",
       "      <td>1</td>\n",
       "      <td>1</td>\n",
       "      <td>1</td>\n",
       "    </tr>\n",
       "    <tr>\n",
       "      <th>682</th>\n",
       "      <td>20</td>\n",
       "      <td>0</td>\n",
       "      <td>0</td>\n",
       "      <td>9.2250</td>\n",
       "      <td>1</td>\n",
       "      <td>1</td>\n",
       "      <td>1</td>\n",
       "      <td>2</td>\n",
       "    </tr>\n",
       "    <tr>\n",
       "      <th>399</th>\n",
       "      <td>28</td>\n",
       "      <td>0</td>\n",
       "      <td>0</td>\n",
       "      <td>12.6500</td>\n",
       "      <td>1</td>\n",
       "      <td>0</td>\n",
       "      <td>1</td>\n",
       "      <td>1</td>\n",
       "    </tr>\n",
       "    <tr>\n",
       "      <th>756</th>\n",
       "      <td>28</td>\n",
       "      <td>0</td>\n",
       "      <td>0</td>\n",
       "      <td>7.7958</td>\n",
       "      <td>1</td>\n",
       "      <td>1</td>\n",
       "      <td>1</td>\n",
       "      <td>2</td>\n",
       "    </tr>\n",
       "    <tr>\n",
       "      <th>394</th>\n",
       "      <td>24</td>\n",
       "      <td>0</td>\n",
       "      <td>2</td>\n",
       "      <td>16.7000</td>\n",
       "      <td>0</td>\n",
       "      <td>0</td>\n",
       "      <td>1</td>\n",
       "      <td>2</td>\n",
       "    </tr>\n",
       "  </tbody>\n",
       "</table>\n",
       "</div>"
      ],
      "text/plain": [
       "     age  sibsp  parch     fare  alone  sex_encoded  embarked_encoded  \\\n",
       "72    21      0      0  73.5000      1            1                 1   \n",
       "682   20      0      0   9.2250      1            1                 1   \n",
       "399   28      0      0  12.6500      1            0                 1   \n",
       "756   28      0      0   7.7958      1            1                 1   \n",
       "394   24      0      2  16.7000      0            0                 1   \n",
       "\n",
       "     class_encoded  \n",
       "72               1  \n",
       "682              2  \n",
       "399              1  \n",
       "756              2  \n",
       "394              2  "
      ]
     },
     "execution_count": 8,
     "metadata": {},
     "output_type": "execute_result"
    }
   ],
   "source": [
    "X_train.head()"
   ]
  },
  {
   "cell_type": "code",
   "execution_count": 9,
   "id": "c4494271-3098-4e58-84c6-54c29fe05b1f",
   "metadata": {
    "tags": []
   },
   "outputs": [
    {
     "data": {
      "text/plain": [
       "<Axes: xlabel='sex_encoded', ylabel='age'>"
      ]
     },
     "execution_count": 9,
     "metadata": {},
     "output_type": "execute_result"
    },
    {
     "data": {
      "image/png": "[encoded data removed]",
      "text/plain": [
       "<Figure size 640x480 with 1 Axes>"
      ]
     },
     "metadata": {},
     "output_type": "display_data"
    }
   ],
   "source": [
    "sns.scatterplot(data=X_train, x='sex_encoded', y='age', hue=y_train)"
   ]
  },
  {
   "cell_type": "code",
   "execution_count": 10,
   "id": "cd4c6c09-31e8-45b3-8010-8af995024bf8",
   "metadata": {
    "tags": []
   },
   "outputs": [
    {
     "data": {
      "image/png": "[encoded data removed]",
      "text/plain": [
       "<Figure size 640x480 with 1 Axes>"
      ]
     },
     "metadata": {},
     "output_type": "display_data"
    }
   ],
   "source": [
    "# finding the best n_neighbors\n",
    "k_range = range(1,20)\n",
    "train_score = []\n",
    "validate_score = []\n",
    "for k in k_range:\n",
    "    knn = KNeighborsClassifier(n_neighbors=k)\n",
    "    knn.fit(X_train, y_train)\n",
    "    train_score.append(knn.score(X_train, y_train))\n",
    "    validate_score.append(knn.score(X_validate, y_validate))\n",
    "plt.figure()\n",
    "plt.xlabel('k')\n",
    "plt.ylabel('accuracy')\n",
    "plt.plot(k_range, train_score, label = 'Train')\n",
    "plt.plot(k_range, validate_score, label = 'Validate')\n",
    "plt.legend()\n",
    "plt.show()"
   ]
  },
  {
   "cell_type": "markdown",
   "id": "16919b91-fcd9-4541-bc23-2957aa7924f4",
   "metadata": {},
   "source": [
    "Based off the visual, I feel the best n_neighbors is 10."
   ]
  },
  {
   "cell_type": "markdown",
   "id": "fbc314ac-96ce-41eb-840b-ee6a2c8ae179",
   "metadata": {},
   "source": [
    "But since a question later in the exercises asks for 10, we'll do the default of 5 for this one."
   ]
  },
  {
   "cell_type": "code",
   "execution_count": 11,
   "id": "51c0ff7d-4882-4ae2-9094-fbed123a3af4",
   "metadata": {
    "tags": []
   },
   "outputs": [
    {
     "data": {
      "text/html": [
       "<style>#sk-container-id-1 {color: black;background-color: white;}#sk-container-id-1 pre{padding: 0;}#sk-container-id-1 div.sk-toggleable {background-color: white;}#sk-container-id-1 label.sk-toggleable__label {cursor: pointer;display: block;width: 100%;margin-bottom: 0;padding: 0.3em;box-sizing: border-box;text-align: center;}#sk-container-id-1 label.sk-toggleable__label-arrow:before {content: \"▸\";float: left;margin-right: 0.25em;color: #696969;}#sk-container-id-1 label.sk-toggleable__label-arrow:hover:before {color: black;}#sk-container-id-1 div.sk-estimator:hover label.sk-toggleable__label-arrow:before {color: black;}#sk-container-id-1 div.sk-toggleable__content {max-height: 0;max-width: 0;overflow: hidden;text-align: left;background-color: #f0f8ff;}#sk-container-id-1 div.sk-toggleable__content pre {margin: 0.2em;color: black;border-radius: 0.25em;background-color: #f0f8ff;}#sk-container-id-1 input.sk-toggleable__control:checked~div.sk-toggleable__content {max-height: 200px;max-width: 100%;overflow: auto;}#sk-container-id-1 input.sk-toggleable__control:checked~label.sk-toggleable__label-arrow:before {content: \"▾\";}#sk-container-id-1 div.sk-estimator input.sk-toggleable__control:checked~label.sk-toggleable__label {background-color: #d4ebff;}#sk-container-id-1 div.sk-label input.sk-toggleable__control:checked~label.sk-toggleable__label {background-color: #d4ebff;}#sk-container-id-1 input.sk-hidden--visually {border: 0;clip: rect(1px 1px 1px 1px);clip: rect(1px, 1px, 1px, 1px);height: 1px;margin: -1px;overflow: hidden;padding: 0;position: absolute;width: 1px;}#sk-container-id-1 div.sk-estimator {font-family: monospace;background-color: #f0f8ff;border: 1px dotted black;border-radius: 0.25em;box-sizing: border-box;margin-bottom: 0.5em;}#sk-container-id-1 div.sk-estimator:hover {background-color: #d4ebff;}#sk-container-id-1 div.sk-parallel-item::after {content: \"\";width: 100%;border-bottom: 1px solid gray;flex-grow: 1;}#sk-container-id-1 div.sk-label:hover label.sk-toggleable__label {background-color: #d4ebff;}#sk-container-id-1 div.sk-serial::before {content: \"\";position: absolute;border-left: 1px solid gray;box-sizing: border-box;top: 0;bottom: 0;left: 50%;z-index: 0;}#sk-container-id-1 div.sk-serial {display: flex;flex-direction: column;align-items: center;background-color: white;padding-right: 0.2em;padding-left: 0.2em;position: relative;}#sk-container-id-1 div.sk-item {position: relative;z-index: 1;}#sk-container-id-1 div.sk-parallel {display: flex;align-items: stretch;justify-content: center;background-color: white;position: relative;}#sk-container-id-1 div.sk-item::before, #sk-container-id-1 div.sk-parallel-item::before {content: \"\";position: absolute;border-left: 1px solid gray;box-sizing: border-box;top: 0;bottom: 0;left: 50%;z-index: -1;}#sk-container-id-1 div.sk-parallel-item {display: flex;flex-direction: column;z-index: 1;position: relative;background-color: white;}#sk-container-id-1 div.sk-parallel-item:first-child::after {align-self: flex-end;width: 50%;}#sk-container-id-1 div.sk-parallel-item:last-child::after {align-self: flex-start;width: 50%;}#sk-container-id-1 div.sk-parallel-item:only-child::after {width: 0;}#sk-container-id-1 div.sk-dashed-wrapped {border: 1px dashed gray;margin: 0 0.4em 0.5em 0.4em;box-sizing: border-box;padding-bottom: 0.4em;background-color: white;}#sk-container-id-1 div.sk-label label {font-family: monospace;font-weight: bold;display: inline-block;line-height: 1.2em;}#sk-container-id-1 div.sk-label-container {text-align: center;}#sk-container-id-1 div.sk-container {/* jupyter's `normalize.less` sets `[hidden] { display: none; }` but bootstrap.min.css set `[hidden] { display: none !important; }` so we also need the `!important` here to be able to override the default hidden behavior on the sphinx rendered scikit-learn.org. See: https://github.com/scikit-learn/scikit-learn/issues/21755 */display: inline-block !important;position: relative;}#sk-container-id-1 div.sk-text-repr-fallback {display: none;}</style><div id=\"sk-container-id-1\" class=\"sk-top-container\"><div class=\"sk-text-repr-fallback\"><pre>KNeighborsClassifier()</pre><b>In a Jupyter environment, please rerun this cell to show the HTML representation or trust the notebook. <br />On GitHub, the HTML representation is unable to render, please try loading this page with nbviewer.org.</b></div><div class=\"sk-container\" hidden><div class=\"sk-item\"><div class=\"sk-estimator sk-toggleable\"><input class=\"sk-toggleable__control sk-hidden--visually\" id=\"sk-estimator-id-1\" type=\"checkbox\" checked><label for=\"sk-estimator-id-1\" class=\"sk-toggleable__label sk-toggleable__label-arrow\">KNeighborsClassifier</label><div class=\"sk-toggleable__content\"><pre>KNeighborsClassifier()</pre></div></div></div></div></div>"
      ],
      "text/plain": [
       "KNeighborsClassifier()"
      ]
     },
     "execution_count": 11,
     "metadata": {},
     "output_type": "execute_result"
    }
   ],
   "source": [
    "knn1 = KNeighborsClassifier(n_neighbors=5, weights='uniform')\n",
    "knn1.fit(X_train, y_train)"
   ]
  },
  {
   "cell_type": "code",
   "execution_count": 12,
   "id": "5333e3cd-39d4-48cf-86c5-8d0a77ec98bd",
   "metadata": {
    "tags": []
   },
   "outputs": [
    {
     "data": {
      "text/plain": [
       "array([0, 0, 1, 0, 1, 1, 0, 0, 0, 1, 0, 0, 0, 0, 0, 1, 0, 1, 0, 1, 0, 0,\n",
       "       0, 0, 1, 1, 0, 1, 0, 1, 0, 0, 1, 1, 0, 0, 1, 0, 0, 0, 0, 0, 1, 1,\n",
       "       0, 0, 1, 0, 0, 0, 1, 0, 0, 1, 1, 0, 0, 1, 0, 1, 0, 0, 0, 0, 0, 0,\n",
       "       0, 0, 0, 1, 0, 0, 0, 0, 0, 0, 0, 1, 0, 0, 1, 0, 0, 1, 0, 0, 1, 1,\n",
       "       1, 0, 1, 0, 0, 1, 0, 1, 0, 0, 0, 1, 1, 0, 0, 0, 0, 0, 1, 0, 0, 1,\n",
       "       0, 1, 1, 1, 0, 0, 0, 1, 0, 0, 0, 0, 0, 0, 0, 1, 1, 0, 0, 0, 1, 1,\n",
       "       1, 0, 1, 0, 0, 0, 1, 1, 0, 1, 1, 1, 0, 0, 0, 1, 0, 0, 0, 1, 1, 0,\n",
       "       0, 0, 0, 1, 0, 1, 0, 0, 0, 0, 1, 0, 0, 1, 1, 1, 0, 1, 0, 1, 0, 0,\n",
       "       1, 1, 0, 0, 1, 0, 0, 0, 1, 0, 1, 0, 0, 0, 1, 1, 0, 1, 0, 1, 1, 0,\n",
       "       0, 0, 0, 1, 0, 0, 0, 0, 0, 0, 1, 1, 1, 0, 0, 1, 0, 0, 1, 1, 1, 1,\n",
       "       1, 0, 1, 0, 0, 0, 1, 1, 1, 0, 1, 0, 0, 0, 1, 0, 1, 0, 0, 0, 0, 0,\n",
       "       1, 0, 0, 1, 1, 1, 0, 1, 1, 1, 1, 1, 0, 0, 1, 1, 0, 1, 1, 0, 1, 1,\n",
       "       1, 0, 1, 0, 1, 1, 0, 0, 1, 0, 0, 1, 0, 0, 0, 1, 0, 0, 1, 0, 0, 1,\n",
       "       1, 0, 0, 0, 1, 0, 1, 0, 0, 0, 1, 0, 0, 1, 0, 0, 0, 1, 1, 0, 0, 0,\n",
       "       1, 1, 1, 0, 0, 0, 1, 0, 0, 0, 1, 1, 1, 1, 1, 1, 0, 1, 0, 0, 0, 1,\n",
       "       0, 0, 0, 0, 1, 0, 1, 0, 0, 0, 1, 0, 0, 0, 1, 0, 1, 0, 1, 1, 0, 0,\n",
       "       1, 1, 0, 0, 0, 0, 1, 0, 0, 1, 0, 0, 1, 0, 1, 0, 0, 0, 1, 1, 1, 1,\n",
       "       0, 0, 0, 0, 0, 0, 0, 0, 0, 0, 0, 0, 0, 0, 0, 0, 1, 0, 1, 0, 1, 1,\n",
       "       0, 0, 0, 0, 1, 0, 0, 0, 0, 1, 0, 0, 0, 1, 0, 1, 0, 1, 1, 0, 0, 1,\n",
       "       1, 0, 1, 0, 1, 1, 0, 0, 0, 0, 1, 1, 1, 0, 0, 1, 0, 1, 1, 1, 1, 1,\n",
       "       0, 0, 0, 0, 0, 0, 0, 0, 0, 0, 0, 0, 0, 0, 0, 0, 0, 0, 0, 0, 0, 0,\n",
       "       0, 0, 1, 1, 0, 1, 0, 0, 0, 1, 0, 0, 1, 0, 1, 1, 1, 0, 1, 0, 0, 0,\n",
       "       0, 0, 0, 0, 1, 0, 0, 0, 0, 0, 0, 1, 1, 0])"
      ]
     },
     "execution_count": 12,
     "metadata": {},
     "output_type": "execute_result"
    }
   ],
   "source": [
    "y_pred = knn1.predict(X_train)\n",
    "y_pred"
   ]
  },
  {
   "cell_type": "code",
   "execution_count": 13,
   "id": "0371302b-1f0d-4168-8a64-a1b32b29539e",
   "metadata": {
    "tags": []
   },
   "outputs": [
    {
     "data": {
      "text/plain": [
       "array([[0.8, 0.2],\n",
       "       [1. , 0. ],\n",
       "       [0.4, 0.6],\n",
       "       [0.8, 0.2],\n",
       "       [0.4, 0.6]])"
      ]
     },
     "execution_count": 13,
     "metadata": {},
     "output_type": "execute_result"
    }
   ],
   "source": [
    "y_pred_prob = knn1.predict_proba(X_train)\n",
    "y_pred_prob[:5]"
   ]
  },
  {
   "cell_type": "markdown",
   "id": "6398f007-926e-4cb2-bc1b-1e943dbcedd2",
   "metadata": {},
   "source": [
    "### Evaluate your results using the model score, confusion matrix, and classification report."
   ]
  },
  {
   "cell_type": "code",
   "execution_count": 44,
   "id": "ccbcc78f-0488-4029-8a70-c07a29ab1e70",
   "metadata": {
    "tags": []
   },
   "outputs": [
    {
     "name": "stdout",
     "output_type": "stream",
     "text": [
      "Accuracy Scores:\n",
      "\n",
      "Baseline Accuracy:\n",
      "61.616162%\n",
      "\n",
      "Model 1 Training Set:\n",
      "80.321285%\n",
      "\n",
      "Model 1 Validation Set:\n",
      "67.289720%\n",
      "\n",
      "Model 1 Overfit:\n",
      "13.031566%\n",
      "\n",
      "Model 1 Beat Baseline Accuracy by:\n",
      "18.705124%\n"
     ]
    }
   ],
   "source": [
    "model_1_train = knn1.score(X_train,y_train)\n",
    "model_1_validate = knn1.score(X_validate,y_validate)\n",
    "model_1_overfit = model_1_train-model_1_validate\n",
    "model_1_beat_baseline = model_1_train - baseline_accuracy\n",
    "\n",
    "print(f'Accuracy Scores:\\n\\\n",
    "\\nBaseline Accuracy:\\n{baseline_accuracy:2%}\\\n",
    "\\n\\nModel 1 Training Set:\\n{model_1_train:2%}\\n\\nModel 1 Validation Set:\\n{model_1_validate:2%}\\n\\nModel 1 Overfit:\\n{model_1_overfit:2%}\\n\\n\\\n",
    "Model 1 Beat Baseline Accuracy by:\\n{model_1_beat_baseline:2%}')"
   ]
  },
  {
   "cell_type": "code",
   "execution_count": 15,
   "id": "ef3ce20a-e25d-41f9-bf6d-d163c72cd308",
   "metadata": {
    "tags": []
   },
   "outputs": [
    {
     "data": {
      "text/html": [
       "<div>\n",
       "<style scoped>\n",
       "    .dataframe tbody tr th:only-of-type {\n",
       "        vertical-align: middle;\n",
       "    }\n",
       "\n",
       "    .dataframe tbody tr th {\n",
       "        vertical-align: top;\n",
       "    }\n",
       "\n",
       "    .dataframe thead th {\n",
       "        text-align: right;\n",
       "    }\n",
       "</style>\n",
       "<table border=\"1\" class=\"dataframe\">\n",
       "  <thead>\n",
       "    <tr style=\"text-align: right;\">\n",
       "      <th></th>\n",
       "      <th>0_actual</th>\n",
       "      <th>1_actual</th>\n",
       "    </tr>\n",
       "  </thead>\n",
       "  <tbody>\n",
       "    <tr>\n",
       "      <th>0_predicted</th>\n",
       "      <td>261</td>\n",
       "      <td>52</td>\n",
       "    </tr>\n",
       "    <tr>\n",
       "      <th>1_predicted</th>\n",
       "      <td>46</td>\n",
       "      <td>139</td>\n",
       "    </tr>\n",
       "  </tbody>\n",
       "</table>\n",
       "</div>"
      ],
      "text/plain": [
       "             0_actual  1_actual\n",
       "0_predicted       261        52\n",
       "1_predicted        46       139"
      ]
     },
     "execution_count": 15,
     "metadata": {},
     "output_type": "execute_result"
    }
   ],
   "source": [
    "# confusion matrix\n",
    "labels = sorted(y_train.unique())\n",
    "neo = confusion_matrix(y_train, y_pred)\n",
    "neo = pd.DataFrame(neo, \n",
    "                   index=[str(label)+ '_actual' for label in labels],\n",
    "                   columns=[str(label)+ '_predicted' for label in labels]).T\n",
    "neo"
   ]
  },
  {
   "cell_type": "code",
   "execution_count": 16,
   "id": "9d730048-8b74-479d-a0c2-2b4a9775de94",
   "metadata": {
    "tags": []
   },
   "outputs": [
    {
     "name": "stdout",
     "output_type": "stream",
     "text": [
      "              precision    recall  f1-score   support\n",
      "\n",
      "           0       0.83      0.85      0.84       307\n",
      "           1       0.75      0.73      0.74       191\n",
      "\n",
      "    accuracy                           0.80       498\n",
      "   macro avg       0.79      0.79      0.79       498\n",
      "weighted avg       0.80      0.80      0.80       498\n",
      "\n"
     ]
    }
   ],
   "source": [
    "print(classification_report(y_train, y_pred))"
   ]
  },
  {
   "cell_type": "markdown",
   "id": "80882138-4d8f-4766-be2f-49ce654d1cf8",
   "metadata": {},
   "source": [
    "### Print and clearly label the following: Accuracy, true positive rate, false positive rate, true negative rate, false negative rate, precision, recall, f1-score, and support."
   ]
  },
  {
   "cell_type": "code",
   "execution_count": 17,
   "id": "bff37ece-d0be-4a78-832b-f74c7a038e49",
   "metadata": {
    "tags": []
   },
   "outputs": [
    {
     "name": "stdout",
     "output_type": "stream",
     "text": [
      "Accuracy: \n",
      "80.321285%\n",
      "\n",
      "True Positive Rate: \n",
      "83.386581%    \n",
      "\n",
      "False Positive Rate: \n",
      "27.225131%\n",
      "\n",
      "True Negative Rate: \n",
      "72.774869%    \n",
      "\n",
      "False Negative Rate: \n",
      "14.983713%\n",
      "\n",
      "Precision: \n",
      "83.386581%    \n",
      "\n",
      "Recall: \n",
      "85.016287%\n",
      "\n",
      "F1 Score: \n",
      "84.193548%    \n",
      "\n",
      "Support for Did Not Survive: \n",
      "307\n",
      "\n",
      "Support for Did Survive: \n",
      "191\n"
     ]
    }
   ],
   "source": [
    "print_and_label(neo)"
   ]
  },
  {
   "cell_type": "markdown",
   "id": "2927b6d2-76a7-4a51-b3ab-b9749b63d96f",
   "metadata": {},
   "source": [
    "### Run through steps 1-3 setting k to 10"
   ]
  },
  {
   "cell_type": "code",
   "execution_count": 18,
   "id": "ea9c0123-c060-45ba-9d5c-67c27eb61786",
   "metadata": {},
   "outputs": [
    {
     "data": {
      "text/html": [
       "<style>#sk-container-id-2 {color: black;background-color: white;}#sk-container-id-2 pre{padding: 0;}#sk-container-id-2 div.sk-toggleable {background-color: white;}#sk-container-id-2 label.sk-toggleable__label {cursor: pointer;display: block;width: 100%;margin-bottom: 0;padding: 0.3em;box-sizing: border-box;text-align: center;}#sk-container-id-2 label.sk-toggleable__label-arrow:before {content: \"▸\";float: left;margin-right: 0.25em;color: #696969;}#sk-container-id-2 label.sk-toggleable__label-arrow:hover:before {color: black;}#sk-container-id-2 div.sk-estimator:hover label.sk-toggleable__label-arrow:before {color: black;}#sk-container-id-2 div.sk-toggleable__content {max-height: 0;max-width: 0;overflow: hidden;text-align: left;background-color: #f0f8ff;}#sk-container-id-2 div.sk-toggleable__content pre {margin: 0.2em;color: black;border-radius: 0.25em;background-color: #f0f8ff;}#sk-container-id-2 input.sk-toggleable__control:checked~div.sk-toggleable__content {max-height: 200px;max-width: 100%;overflow: auto;}#sk-container-id-2 input.sk-toggleable__control:checked~label.sk-toggleable__label-arrow:before {content: \"▾\";}#sk-container-id-2 div.sk-estimator input.sk-toggleable__control:checked~label.sk-toggleable__label {background-color: #d4ebff;}#sk-container-id-2 div.sk-label input.sk-toggleable__control:checked~label.sk-toggleable__label {background-color: #d4ebff;}#sk-container-id-2 input.sk-hidden--visually {border: 0;clip: rect(1px 1px 1px 1px);clip: rect(1px, 1px, 1px, 1px);height: 1px;margin: -1px;overflow: hidden;padding: 0;position: absolute;width: 1px;}#sk-container-id-2 div.sk-estimator {font-family: monospace;background-color: #f0f8ff;border: 1px dotted black;border-radius: 0.25em;box-sizing: border-box;margin-bottom: 0.5em;}#sk-container-id-2 div.sk-estimator:hover {background-color: #d4ebff;}#sk-container-id-2 div.sk-parallel-item::after {content: \"\";width: 100%;border-bottom: 1px solid gray;flex-grow: 1;}#sk-container-id-2 div.sk-label:hover label.sk-toggleable__label {background-color: #d4ebff;}#sk-container-id-2 div.sk-serial::before {content: \"\";position: absolute;border-left: 1px solid gray;box-sizing: border-box;top: 0;bottom: 0;left: 50%;z-index: 0;}#sk-container-id-2 div.sk-serial {display: flex;flex-direction: column;align-items: center;background-color: white;padding-right: 0.2em;padding-left: 0.2em;position: relative;}#sk-container-id-2 div.sk-item {position: relative;z-index: 1;}#sk-container-id-2 div.sk-parallel {display: flex;align-items: stretch;justify-content: center;background-color: white;position: relative;}#sk-container-id-2 div.sk-item::before, #sk-container-id-2 div.sk-parallel-item::before {content: \"\";position: absolute;border-left: 1px solid gray;box-sizing: border-box;top: 0;bottom: 0;left: 50%;z-index: -1;}#sk-container-id-2 div.sk-parallel-item {display: flex;flex-direction: column;z-index: 1;position: relative;background-color: white;}#sk-container-id-2 div.sk-parallel-item:first-child::after {align-self: flex-end;width: 50%;}#sk-container-id-2 div.sk-parallel-item:last-child::after {align-self: flex-start;width: 50%;}#sk-container-id-2 div.sk-parallel-item:only-child::after {width: 0;}#sk-container-id-2 div.sk-dashed-wrapped {border: 1px dashed gray;margin: 0 0.4em 0.5em 0.4em;box-sizing: border-box;padding-bottom: 0.4em;background-color: white;}#sk-container-id-2 div.sk-label label {font-family: monospace;font-weight: bold;display: inline-block;line-height: 1.2em;}#sk-container-id-2 div.sk-label-container {text-align: center;}#sk-container-id-2 div.sk-container {/* jupyter's `normalize.less` sets `[hidden] { display: none; }` but bootstrap.min.css set `[hidden] { display: none !important; }` so we also need the `!important` here to be able to override the default hidden behavior on the sphinx rendered scikit-learn.org. See: https://github.com/scikit-learn/scikit-learn/issues/21755 */display: inline-block !important;position: relative;}#sk-container-id-2 div.sk-text-repr-fallback {display: none;}</style><div id=\"sk-container-id-2\" class=\"sk-top-container\"><div class=\"sk-text-repr-fallback\"><pre>KNeighborsClassifier(n_neighbors=10)</pre><b>In a Jupyter environment, please rerun this cell to show the HTML representation or trust the notebook. <br />On GitHub, the HTML representation is unable to render, please try loading this page with nbviewer.org.</b></div><div class=\"sk-container\" hidden><div class=\"sk-item\"><div class=\"sk-estimator sk-toggleable\"><input class=\"sk-toggleable__control sk-hidden--visually\" id=\"sk-estimator-id-2\" type=\"checkbox\" checked><label for=\"sk-estimator-id-2\" class=\"sk-toggleable__label sk-toggleable__label-arrow\">KNeighborsClassifier</label><div class=\"sk-toggleable__content\"><pre>KNeighborsClassifier(n_neighbors=10)</pre></div></div></div></div></div>"
      ],
      "text/plain": [
       "KNeighborsClassifier(n_neighbors=10)"
      ]
     },
     "execution_count": 18,
     "metadata": {},
     "output_type": "execute_result"
    }
   ],
   "source": [
    "knn2 = KNeighborsClassifier(n_neighbors=10, weights='uniform')\n",
    "knn2.fit(X_train, y_train)"
   ]
  },
  {
   "cell_type": "code",
   "execution_count": 19,
   "id": "0e75e7e7-3de1-4477-94f7-58aec5cd72dd",
   "metadata": {},
   "outputs": [
    {
     "data": {
      "text/plain": [
       "array([1, 0, 1, 0, 0, 1, 0, 0, 0, 1, 0, 0, 0, 0, 0, 1, 0, 0, 0, 1, 0, 0,\n",
       "       0, 0, 1, 1, 0, 1, 0, 0, 0, 0, 1, 0, 0, 0, 1, 0, 0, 0, 0, 0, 0, 0,\n",
       "       0, 0, 1, 0, 0, 0, 1, 0, 0, 1, 1, 0, 0, 1, 0, 1, 0, 0, 0, 0, 0, 0,\n",
       "       0, 0, 0, 1, 0, 0, 0, 0, 0, 0, 0, 1, 0, 0, 1, 0, 0, 1, 0, 0, 1, 1,\n",
       "       1, 0, 1, 0, 0, 0, 0, 0, 0, 0, 0, 1, 1, 0, 0, 0, 0, 0, 1, 0, 0, 0,\n",
       "       0, 0, 0, 1, 0, 0, 0, 1, 0, 0, 0, 0, 0, 0, 0, 0, 1, 0, 0, 0, 0, 1,\n",
       "       1, 0, 1, 0, 0, 0, 1, 1, 0, 1, 0, 1, 0, 0, 0, 1, 0, 0, 0, 1, 0, 0,\n",
       "       1, 0, 0, 1, 0, 1, 0, 0, 0, 0, 1, 0, 0, 1, 1, 1, 0, 1, 0, 0, 0, 0,\n",
       "       1, 0, 0, 0, 0, 0, 0, 0, 1, 0, 1, 0, 0, 0, 0, 0, 0, 1, 0, 1, 1, 1,\n",
       "       0, 0, 0, 1, 0, 0, 0, 1, 0, 0, 1, 1, 0, 0, 0, 1, 0, 0, 0, 1, 0, 1,\n",
       "       1, 0, 1, 0, 1, 0, 1, 0, 1, 0, 0, 0, 0, 0, 0, 0, 1, 0, 0, 0, 0, 0,\n",
       "       1, 0, 0, 1, 1, 1, 0, 1, 1, 1, 1, 1, 0, 0, 1, 1, 0, 1, 1, 0, 1, 1,\n",
       "       0, 0, 1, 0, 1, 1, 0, 0, 1, 0, 0, 1, 0, 0, 0, 1, 0, 0, 1, 0, 0, 1,\n",
       "       1, 0, 0, 1, 0, 0, 1, 0, 0, 0, 0, 0, 0, 0, 0, 0, 0, 1, 0, 0, 0, 0,\n",
       "       1, 0, 0, 1, 0, 0, 1, 0, 0, 0, 1, 0, 0, 1, 0, 1, 0, 1, 0, 0, 0, 1,\n",
       "       0, 0, 0, 0, 0, 0, 1, 0, 0, 0, 0, 0, 0, 0, 1, 0, 1, 0, 0, 1, 0, 0,\n",
       "       1, 0, 0, 0, 0, 0, 1, 0, 0, 0, 0, 0, 0, 0, 0, 0, 0, 0, 1, 0, 1, 1,\n",
       "       0, 0, 0, 0, 1, 0, 0, 0, 0, 0, 0, 0, 0, 0, 1, 0, 0, 0, 0, 0, 1, 1,\n",
       "       0, 0, 0, 0, 0, 1, 0, 0, 0, 1, 0, 1, 0, 1, 0, 1, 0, 1, 0, 0, 0, 1,\n",
       "       0, 0, 0, 0, 1, 1, 0, 0, 0, 0, 1, 0, 1, 0, 0, 1, 0, 0, 0, 1, 1, 1,\n",
       "       0, 0, 0, 0, 0, 0, 0, 0, 0, 0, 0, 0, 0, 0, 0, 0, 0, 0, 0, 0, 0, 0,\n",
       "       0, 0, 1, 1, 1, 1, 0, 0, 0, 1, 0, 0, 1, 0, 1, 0, 0, 0, 1, 1, 0, 0,\n",
       "       0, 0, 0, 0, 0, 1, 0, 0, 0, 0, 0, 0, 1, 0])"
      ]
     },
     "execution_count": 19,
     "metadata": {},
     "output_type": "execute_result"
    }
   ],
   "source": [
    "y_pred = knn2.predict(X_train)\n",
    "y_pred"
   ]
  },
  {
   "cell_type": "code",
   "execution_count": 20,
   "id": "cd8fb9dc-ea47-4117-8b2a-7cb7a0adbd0e",
   "metadata": {},
   "outputs": [
    {
     "data": {
      "text/plain": [
       "array([[0.4, 0.6],\n",
       "       [1. , 0. ],\n",
       "       [0.3, 0.7],\n",
       "       [0.5, 0.5],\n",
       "       [0.6, 0.4]])"
      ]
     },
     "execution_count": 20,
     "metadata": {},
     "output_type": "execute_result"
    }
   ],
   "source": [
    "y_pred_prob = knn2.predict_proba(X_train)\n",
    "y_pred_prob[:5]"
   ]
  },
  {
   "cell_type": "code",
   "execution_count": 21,
   "id": "01b5aa4d-0f0c-4acf-9193-2d8c7f97a740",
   "metadata": {},
   "outputs": [],
   "source": [
    "model_2_train = knn2.score(X_train,y_train)\n",
    "model_2_validate = knn2.score(X_validate,y_validate)"
   ]
  },
  {
   "cell_type": "code",
   "execution_count": 45,
   "id": "71071e3f-af24-450e-a10c-bff9d942b849",
   "metadata": {
    "tags": []
   },
   "outputs": [
    {
     "name": "stdout",
     "output_type": "stream",
     "text": [
      "Accuracy Scores:\n",
      "\n",
      "Baseline Accuracy:\n",
      "61.616162%\n",
      "\n",
      "Model 2 Training Set:\n",
      "74.497992%\n",
      "\n",
      "Model 2 Validation Set:\n",
      "73.831776%\n",
      "\n",
      "Model 2 Overfit:\n",
      "0.666216%\n",
      "\n",
      "Model 2 Beat Baseline Accuracy by:\n",
      "12.881830%\n"
     ]
    }
   ],
   "source": [
    "model_2_train = knn2.score(X_train,y_train)\n",
    "model_2_validate = knn2.score(X_validate,y_validate)\n",
    "model_2_overfit = model_2_train-model_2_validate\n",
    "model_2_beat_baseline = model_2_train - baseline_accuracy\n",
    "\n",
    "print(f'Accuracy Scores:\\n\\\n",
    "\\nBaseline Accuracy:\\n{baseline_accuracy:2%}\\\n",
    "\\n\\nModel 2 Training Set:\\n{model_2_train:2%}\\n\\nModel 2 Validation Set:\\n{model_2_validate:2%}\\n\\nModel 2 Overfit:\\n{model_2_overfit:2%}\\n\\n\\\n",
    "Model 2 Beat Baseline Accuracy by:\\n{model_2_beat_baseline:2%}')"
   ]
  },
  {
   "cell_type": "code",
   "execution_count": 23,
   "id": "158b6977-7274-4106-bc1f-e70084a2045e",
   "metadata": {},
   "outputs": [
    {
     "data": {
      "text/html": [
       "<div>\n",
       "<style scoped>\n",
       "    .dataframe tbody tr th:only-of-type {\n",
       "        vertical-align: middle;\n",
       "    }\n",
       "\n",
       "    .dataframe tbody tr th {\n",
       "        vertical-align: top;\n",
       "    }\n",
       "\n",
       "    .dataframe thead th {\n",
       "        text-align: right;\n",
       "    }\n",
       "</style>\n",
       "<table border=\"1\" class=\"dataframe\">\n",
       "  <thead>\n",
       "    <tr style=\"text-align: right;\">\n",
       "      <th></th>\n",
       "      <th>0_actual</th>\n",
       "      <th>1_actual</th>\n",
       "    </tr>\n",
       "  </thead>\n",
       "  <tbody>\n",
       "    <tr>\n",
       "      <th>0_predicted</th>\n",
       "      <td>268</td>\n",
       "      <td>88</td>\n",
       "    </tr>\n",
       "    <tr>\n",
       "      <th>1_predicted</th>\n",
       "      <td>39</td>\n",
       "      <td>103</td>\n",
       "    </tr>\n",
       "  </tbody>\n",
       "</table>\n",
       "</div>"
      ],
      "text/plain": [
       "             0_actual  1_actual\n",
       "0_predicted       268        88\n",
       "1_predicted        39       103"
      ]
     },
     "execution_count": 23,
     "metadata": {},
     "output_type": "execute_result"
    }
   ],
   "source": [
    "# confusion matrix\n",
    "labels = sorted(y_train.unique())\n",
    "neo2 = confusion_matrix(y_train, y_pred)\n",
    "neo2 = pd.DataFrame(neo2, \n",
    "                   index=[str(label)+ '_actual' for label in labels],\n",
    "                   columns=[str(label)+ '_predicted' for label in labels]).T\n",
    "neo2"
   ]
  },
  {
   "cell_type": "code",
   "execution_count": 24,
   "id": "ef697102-8986-4b0d-99e8-1514bb16600c",
   "metadata": {},
   "outputs": [
    {
     "name": "stdout",
     "output_type": "stream",
     "text": [
      "              precision    recall  f1-score   support\n",
      "\n",
      "           0       0.75      0.87      0.81       307\n",
      "           1       0.73      0.54      0.62       191\n",
      "\n",
      "    accuracy                           0.74       498\n",
      "   macro avg       0.74      0.71      0.71       498\n",
      "weighted avg       0.74      0.74      0.74       498\n",
      "\n"
     ]
    }
   ],
   "source": [
    "print(classification_report(y_train, y_pred))"
   ]
  },
  {
   "cell_type": "code",
   "execution_count": 25,
   "id": "6ac6bd59-06ea-4441-962a-64c2503b40e1",
   "metadata": {},
   "outputs": [
    {
     "name": "stdout",
     "output_type": "stream",
     "text": [
      "Accuracy: \n",
      "80.321285%\n",
      "\n",
      "True Positive Rate: \n",
      "83.386581%    \n",
      "\n",
      "False Positive Rate: \n",
      "27.225131%\n",
      "\n",
      "True Negative Rate: \n",
      "72.774869%    \n",
      "\n",
      "False Negative Rate: \n",
      "14.983713%\n",
      "\n",
      "Precision: \n",
      "83.386581%    \n",
      "\n",
      "Recall: \n",
      "85.016287%\n",
      "\n",
      "F1 Score: \n",
      "84.193548%    \n",
      "\n",
      "Support for Did Not Survive: \n",
      "307\n",
      "\n",
      "Support for Did Survive: \n",
      "191\n"
     ]
    }
   ],
   "source": [
    "print_and_label(neo2)"
   ]
  },
  {
   "cell_type": "markdown",
   "id": "37a4ea58-3959-4c45-b8d7-b34c52c778c2",
   "metadata": {},
   "source": [
    "### Run through steps 1-3 setting k to 20"
   ]
  },
  {
   "cell_type": "code",
   "execution_count": 26,
   "id": "94b8f772-9ce8-4452-9f76-ddda1585ef92",
   "metadata": {},
   "outputs": [
    {
     "data": {
      "text/html": [
       "<style>#sk-container-id-3 {color: black;background-color: white;}#sk-container-id-3 pre{padding: 0;}#sk-container-id-3 div.sk-toggleable {background-color: white;}#sk-container-id-3 label.sk-toggleable__label {cursor: pointer;display: block;width: 100%;margin-bottom: 0;padding: 0.3em;box-sizing: border-box;text-align: center;}#sk-container-id-3 label.sk-toggleable__label-arrow:before {content: \"▸\";float: left;margin-right: 0.25em;color: #696969;}#sk-container-id-3 label.sk-toggleable__label-arrow:hover:before {color: black;}#sk-container-id-3 div.sk-estimator:hover label.sk-toggleable__label-arrow:before {color: black;}#sk-container-id-3 div.sk-toggleable__content {max-height: 0;max-width: 0;overflow: hidden;text-align: left;background-color: #f0f8ff;}#sk-container-id-3 div.sk-toggleable__content pre {margin: 0.2em;color: black;border-radius: 0.25em;background-color: #f0f8ff;}#sk-container-id-3 input.sk-toggleable__control:checked~div.sk-toggleable__content {max-height: 200px;max-width: 100%;overflow: auto;}#sk-container-id-3 input.sk-toggleable__control:checked~label.sk-toggleable__label-arrow:before {content: \"▾\";}#sk-container-id-3 div.sk-estimator input.sk-toggleable__control:checked~label.sk-toggleable__label {background-color: #d4ebff;}#sk-container-id-3 div.sk-label input.sk-toggleable__control:checked~label.sk-toggleable__label {background-color: #d4ebff;}#sk-container-id-3 input.sk-hidden--visually {border: 0;clip: rect(1px 1px 1px 1px);clip: rect(1px, 1px, 1px, 1px);height: 1px;margin: -1px;overflow: hidden;padding: 0;position: absolute;width: 1px;}#sk-container-id-3 div.sk-estimator {font-family: monospace;background-color: #f0f8ff;border: 1px dotted black;border-radius: 0.25em;box-sizing: border-box;margin-bottom: 0.5em;}#sk-container-id-3 div.sk-estimator:hover {background-color: #d4ebff;}#sk-container-id-3 div.sk-parallel-item::after {content: \"\";width: 100%;border-bottom: 1px solid gray;flex-grow: 1;}#sk-container-id-3 div.sk-label:hover label.sk-toggleable__label {background-color: #d4ebff;}#sk-container-id-3 div.sk-serial::before {content: \"\";position: absolute;border-left: 1px solid gray;box-sizing: border-box;top: 0;bottom: 0;left: 50%;z-index: 0;}#sk-container-id-3 div.sk-serial {display: flex;flex-direction: column;align-items: center;background-color: white;padding-right: 0.2em;padding-left: 0.2em;position: relative;}#sk-container-id-3 div.sk-item {position: relative;z-index: 1;}#sk-container-id-3 div.sk-parallel {display: flex;align-items: stretch;justify-content: center;background-color: white;position: relative;}#sk-container-id-3 div.sk-item::before, #sk-container-id-3 div.sk-parallel-item::before {content: \"\";position: absolute;border-left: 1px solid gray;box-sizing: border-box;top: 0;bottom: 0;left: 50%;z-index: -1;}#sk-container-id-3 div.sk-parallel-item {display: flex;flex-direction: column;z-index: 1;position: relative;background-color: white;}#sk-container-id-3 div.sk-parallel-item:first-child::after {align-self: flex-end;width: 50%;}#sk-container-id-3 div.sk-parallel-item:last-child::after {align-self: flex-start;width: 50%;}#sk-container-id-3 div.sk-parallel-item:only-child::after {width: 0;}#sk-container-id-3 div.sk-dashed-wrapped {border: 1px dashed gray;margin: 0 0.4em 0.5em 0.4em;box-sizing: border-box;padding-bottom: 0.4em;background-color: white;}#sk-container-id-3 div.sk-label label {font-family: monospace;font-weight: bold;display: inline-block;line-height: 1.2em;}#sk-container-id-3 div.sk-label-container {text-align: center;}#sk-container-id-3 div.sk-container {/* jupyter's `normalize.less` sets `[hidden] { display: none; }` but bootstrap.min.css set `[hidden] { display: none !important; }` so we also need the `!important` here to be able to override the default hidden behavior on the sphinx rendered scikit-learn.org. See: https://github.com/scikit-learn/scikit-learn/issues/21755 */display: inline-block !important;position: relative;}#sk-container-id-3 div.sk-text-repr-fallback {display: none;}</style><div id=\"sk-container-id-3\" class=\"sk-top-container\"><div class=\"sk-text-repr-fallback\"><pre>KNeighborsClassifier(n_neighbors=20)</pre><b>In a Jupyter environment, please rerun this cell to show the HTML representation or trust the notebook. <br />On GitHub, the HTML representation is unable to render, please try loading this page with nbviewer.org.</b></div><div class=\"sk-container\" hidden><div class=\"sk-item\"><div class=\"sk-estimator sk-toggleable\"><input class=\"sk-toggleable__control sk-hidden--visually\" id=\"sk-estimator-id-3\" type=\"checkbox\" checked><label for=\"sk-estimator-id-3\" class=\"sk-toggleable__label sk-toggleable__label-arrow\">KNeighborsClassifier</label><div class=\"sk-toggleable__content\"><pre>KNeighborsClassifier(n_neighbors=20)</pre></div></div></div></div></div>"
      ],
      "text/plain": [
       "KNeighborsClassifier(n_neighbors=20)"
      ]
     },
     "execution_count": 26,
     "metadata": {},
     "output_type": "execute_result"
    }
   ],
   "source": [
    "knn3 = KNeighborsClassifier(n_neighbors=20, weights='uniform')\n",
    "knn3.fit(X_train, y_train)"
   ]
  },
  {
   "cell_type": "code",
   "execution_count": 27,
   "id": "f1361384-b51a-493f-8c85-008a6c3c49a3",
   "metadata": {},
   "outputs": [
    {
     "data": {
      "text/plain": [
       "array([1, 0, 0, 0, 0, 1, 0, 0, 0, 1, 0, 0, 0, 0, 0, 0, 0, 1, 0, 0, 0, 0,\n",
       "       0, 0, 1, 1, 0, 1, 0, 1, 0, 0, 1, 1, 0, 1, 1, 0, 0, 0, 0, 0, 0, 1,\n",
       "       0, 0, 1, 0, 0, 0, 1, 0, 0, 0, 0, 0, 0, 1, 0, 1, 0, 0, 0, 0, 0, 0,\n",
       "       0, 1, 0, 1, 0, 0, 0, 1, 0, 0, 0, 1, 0, 0, 0, 0, 0, 0, 0, 0, 1, 0,\n",
       "       1, 0, 0, 0, 0, 0, 0, 0, 0, 0, 0, 1, 0, 0, 0, 0, 0, 0, 1, 1, 0, 0,\n",
       "       0, 0, 0, 0, 0, 0, 0, 1, 0, 0, 0, 0, 0, 0, 0, 0, 1, 0, 0, 0, 0, 0,\n",
       "       1, 0, 1, 0, 0, 0, 1, 0, 0, 1, 0, 1, 0, 0, 0, 0, 0, 0, 0, 1, 0, 0,\n",
       "       0, 0, 0, 1, 0, 0, 0, 0, 0, 0, 1, 0, 1, 0, 1, 1, 0, 1, 0, 0, 0, 0,\n",
       "       1, 0, 0, 1, 0, 0, 1, 0, 1, 0, 1, 0, 0, 0, 0, 0, 0, 1, 1, 1, 1, 0,\n",
       "       0, 0, 0, 1, 0, 0, 1, 1, 0, 0, 1, 1, 0, 0, 1, 1, 0, 0, 0, 1, 1, 0,\n",
       "       1, 0, 1, 0, 1, 0, 1, 0, 1, 0, 0, 0, 0, 0, 0, 0, 1, 0, 0, 0, 0, 0,\n",
       "       1, 0, 0, 0, 0, 1, 0, 0, 1, 0, 1, 1, 0, 0, 1, 1, 0, 0, 1, 0, 1, 1,\n",
       "       0, 0, 1, 0, 0, 1, 0, 0, 1, 0, 0, 1, 0, 0, 0, 1, 0, 0, 1, 1, 0, 1,\n",
       "       1, 0, 0, 0, 0, 0, 0, 0, 0, 0, 0, 0, 0, 0, 0, 0, 0, 1, 1, 0, 0, 0,\n",
       "       1, 0, 0, 1, 1, 0, 1, 0, 0, 0, 1, 0, 0, 0, 0, 0, 0, 1, 0, 0, 0, 1,\n",
       "       0, 0, 0, 0, 0, 0, 1, 0, 0, 0, 0, 0, 0, 0, 1, 0, 1, 0, 0, 1, 0, 0,\n",
       "       0, 0, 0, 0, 0, 0, 1, 0, 0, 0, 0, 0, 0, 0, 0, 0, 0, 0, 0, 0, 1, 1,\n",
       "       0, 0, 0, 0, 1, 0, 0, 0, 0, 0, 0, 0, 0, 0, 1, 0, 0, 0, 1, 0, 0, 0,\n",
       "       0, 0, 0, 0, 1, 1, 0, 0, 0, 1, 0, 0, 0, 0, 0, 1, 0, 0, 0, 0, 0, 1,\n",
       "       1, 0, 0, 0, 1, 1, 0, 0, 0, 0, 1, 0, 0, 0, 0, 1, 0, 0, 0, 0, 1, 0,\n",
       "       0, 0, 0, 0, 0, 0, 0, 0, 0, 0, 0, 0, 0, 0, 0, 0, 0, 1, 0, 0, 0, 0,\n",
       "       0, 0, 1, 1, 0, 1, 0, 0, 0, 0, 0, 0, 0, 0, 1, 0, 0, 0, 1, 0, 0, 0,\n",
       "       0, 0, 0, 0, 0, 0, 0, 0, 0, 0, 0, 0, 0, 0])"
      ]
     },
     "execution_count": 27,
     "metadata": {},
     "output_type": "execute_result"
    }
   ],
   "source": [
    "y_pred = knn3.predict(X_train)\n",
    "y_pred"
   ]
  },
  {
   "cell_type": "code",
   "execution_count": 28,
   "id": "206ed756-76a3-4527-9b85-d9d5adb7042f",
   "metadata": {},
   "outputs": [
    {
     "data": {
      "text/plain": [
       "array([[0.45, 0.55],\n",
       "       [0.9 , 0.1 ],\n",
       "       [0.5 , 0.5 ],\n",
       "       [0.7 , 0.3 ],\n",
       "       [0.65, 0.35]])"
      ]
     },
     "execution_count": 28,
     "metadata": {},
     "output_type": "execute_result"
    }
   ],
   "source": [
    "y_pred_prob = knn3.predict_proba(X_train)\n",
    "y_pred_prob[:5]"
   ]
  },
  {
   "cell_type": "code",
   "execution_count": 29,
   "id": "2c69c89b-e576-475a-8725-681bea6fdbc0",
   "metadata": {},
   "outputs": [],
   "source": [
    "model_3_train = knn3.score(X_train,y_train)\n",
    "model_3_validate = knn3.score(X_validate,y_validate)"
   ]
  },
  {
   "cell_type": "code",
   "execution_count": 56,
   "id": "ee2df875-e557-4723-bd17-9bccf1803b35",
   "metadata": {},
   "outputs": [
    {
     "name": "stdout",
     "output_type": "stream",
     "text": [
      "Accuracy Scores:\n",
      "\n",
      "Baseline Accuracy:\n",
      "61.616162%\n",
      "\n",
      "Model 3 Training Set:\n",
      "71.084337%\n",
      "\n",
      "Model 3 Validation Set:\n",
      "71.495327%\n",
      "\n",
      "Model 3 Overfit:\n",
      "-0.410990%\n",
      "The validate set actually did better then training set here\n",
      "\n",
      "Model 3 Beat Baseline Accuracy by:\n",
      "9.468176%\n"
     ]
    }
   ],
   "source": [
    "model_3_train = knn3.score(X_train,y_train)\n",
    "model_3_validate = knn3.score(X_validate,y_validate)\n",
    "model_3_overfit = model_3_train-model_3_validate\n",
    "model_3_beat_baseline = model_3_train - baseline_accuracy\n",
    "\n",
    "print(f'Accuracy Scores:\\n\\\n",
    "\\nBaseline Accuracy:\\n{baseline_accuracy:2%}\\\n",
    "\\n\\nModel 3 Training Set:\\n{model_3_train:2%}\\n\\nModel 3 Validation Set:\\n{model_3_validate:2%}\\n\\nModel 3 Overfit:\\n{model_3_overfit:2%}\\nThe validate set actually did better then training set here\\n\\n\\\n",
    "Model 3 Beat Baseline Accuracy by:\\n{model_3_beat_baseline:2%}')"
   ]
  },
  {
   "cell_type": "code",
   "execution_count": 31,
   "id": "6e0ef0f3-e9f7-4b6d-9dd9-95f18b06de62",
   "metadata": {},
   "outputs": [
    {
     "data": {
      "text/html": [
       "<div>\n",
       "<style scoped>\n",
       "    .dataframe tbody tr th:only-of-type {\n",
       "        vertical-align: middle;\n",
       "    }\n",
       "\n",
       "    .dataframe tbody tr th {\n",
       "        vertical-align: top;\n",
       "    }\n",
       "\n",
       "    .dataframe thead th {\n",
       "        text-align: right;\n",
       "    }\n",
       "</style>\n",
       "<table border=\"1\" class=\"dataframe\">\n",
       "  <thead>\n",
       "    <tr style=\"text-align: right;\">\n",
       "      <th></th>\n",
       "      <th>0_actual</th>\n",
       "      <th>1_actual</th>\n",
       "    </tr>\n",
       "  </thead>\n",
       "  <tbody>\n",
       "    <tr>\n",
       "      <th>0_predicted</th>\n",
       "      <td>271</td>\n",
       "      <td>108</td>\n",
       "    </tr>\n",
       "    <tr>\n",
       "      <th>1_predicted</th>\n",
       "      <td>36</td>\n",
       "      <td>83</td>\n",
       "    </tr>\n",
       "  </tbody>\n",
       "</table>\n",
       "</div>"
      ],
      "text/plain": [
       "             0_actual  1_actual\n",
       "0_predicted       271       108\n",
       "1_predicted        36        83"
      ]
     },
     "execution_count": 31,
     "metadata": {},
     "output_type": "execute_result"
    }
   ],
   "source": [
    "# confusion matrix\n",
    "labels = sorted(y_train.unique())\n",
    "neo3 = confusion_matrix(y_train, y_pred)\n",
    "neo3 = pd.DataFrame(neo3, \n",
    "                   index=[str(label)+ '_actual' for label in labels],\n",
    "                   columns=[str(label)+ '_predicted' for label in labels]).T\n",
    "neo3"
   ]
  },
  {
   "cell_type": "code",
   "execution_count": 32,
   "id": "5b9e7376-63c7-4308-9035-ba6458e424f0",
   "metadata": {
    "tags": []
   },
   "outputs": [
    {
     "name": "stdout",
     "output_type": "stream",
     "text": [
      "              precision    recall  f1-score   support\n",
      "\n",
      "           0       0.72      0.88      0.79       307\n",
      "           1       0.70      0.43      0.54       191\n",
      "\n",
      "    accuracy                           0.71       498\n",
      "   macro avg       0.71      0.66      0.66       498\n",
      "weighted avg       0.71      0.71      0.69       498\n",
      "\n"
     ]
    }
   ],
   "source": [
    "print(classification_report(y_train, y_pred))"
   ]
  },
  {
   "cell_type": "code",
   "execution_count": 33,
   "id": "71ac0ef3-fa0b-4317-b128-1532cfff2f80",
   "metadata": {
    "tags": []
   },
   "outputs": [
    {
     "name": "stdout",
     "output_type": "stream",
     "text": [
      "Accuracy: \n",
      "80.321285%\n",
      "\n",
      "True Positive Rate: \n",
      "83.386581%    \n",
      "\n",
      "False Positive Rate: \n",
      "27.225131%\n",
      "\n",
      "True Negative Rate: \n",
      "72.774869%    \n",
      "\n",
      "False Negative Rate: \n",
      "14.983713%\n",
      "\n",
      "Precision: \n",
      "83.386581%    \n",
      "\n",
      "Recall: \n",
      "85.016287%\n",
      "\n",
      "F1 Score: \n",
      "84.193548%    \n",
      "\n",
      "Support for Did Not Survive: \n",
      "307\n",
      "\n",
      "Support for Did Survive: \n",
      "191\n"
     ]
    }
   ],
   "source": [
    "print_and_label(neo3)"
   ]
  },
  {
   "cell_type": "markdown",
   "id": "59359815-3286-4af3-a916-d9ba36a34a99",
   "metadata": {},
   "source": [
    "### What are the differences in the evaluation metrics? Which performs better on your in-sample data? Why?"
   ]
  },
  {
   "cell_type": "markdown",
   "id": "55ce5d05-b518-43fc-b802-ca467546fff0",
   "metadata": {},
   "source": [
    "#### Answer: Model 1 performs the best on our in-sample data, but it had the largest amount of overfitting. Once we increase the amount of neighbors the models are looking for, our overfitting drops drastically."
   ]
  },
  {
   "cell_type": "code",
   "execution_count": 55,
   "id": "93c31c07-9f0b-4100-8c65-52114709a5c9",
   "metadata": {
    "tags": []
   },
   "outputs": [
    {
     "name": "stdout",
     "output_type": "stream",
     "text": [
      "Baseline Accuracy:\n",
      "61.616162%\n",
      "\n",
      "Accuracy Scores:\n",
      "\n",
      "Model 1 Training Set:\n",
      "80.321285%\n",
      "\n",
      "Model 1 Validation Set:\n",
      "67.289720%\n",
      "\n",
      "Model 1 Overfit:\n",
      "13.031566%\n",
      "\n",
      "Model 1 Beat Baseline Accuracy by:\n",
      "18.705124%\n",
      "\n",
      "Model 2 Training Set:\n",
      "74.497992%\n",
      "\n",
      "Model 2 Validation Set:\n",
      "73.831776%\n",
      "\n",
      "Model 2 Overfit:\n",
      "0.666216%\n",
      "\n",
      "Model 2 Beat Baseline Accuracy by:\n",
      "12.881830%\n",
      "\n",
      "Model 3 Training Set:\n",
      "71.084337%\n",
      "\n",
      "Model 3 Validation Set:\n",
      "71.495327%\n",
      "\n",
      "Model 3 Overfit:\n",
      "-0.410990%\n",
      "The validate set actually did better then the training set here\n",
      "\n",
      "\\Model 3 Beat Baseline Accuracy by:\n",
      "9.468176%\n"
     ]
    }
   ],
   "source": [
    "print(f'Baseline Accuracy:\\n{baseline_accuracy:2%}\\\n",
    "\\n\\nAccuracy Scores:\\\n",
    "\\n\\nModel 1 Training Set:\\n{model_1_train:2%}\\n\\nModel 1 Validation Set:\\n{model_1_validate:2%}\\n\\nModel 1 Overfit:\\n{model_1_overfit:2%}\\n\\n\\\n",
    "Model 1 Beat Baseline Accuracy by:\\n{model_1_beat_baseline:2%}\\\n",
    "\\n\\nModel 2 Training Set:\\n{model_2_train:2%}\\n\\nModel 2 Validation Set:\\n{model_2_validate:2%}\\n\\nModel 2 Overfit:\\n{model_2_overfit:2%}\\n\\n\\\n",
    "Model 2 Beat Baseline Accuracy by:\\n{model_2_beat_baseline:2%}\\\n",
    "\\n\\nModel 3 Training Set:\\n{model_3_train:2%}\\n\\nModel 3 Validation Set:\\n{model_3_validate:2%}\\n\\nModel 3 Overfit:\\n{model_3_overfit:2%}\\\n",
    "\\nThe validate set actually did better then the training set here\\\n",
    "\\n\\n\\Model 3 Beat Baseline Accuracy by:\\n{model_3_beat_baseline:2%}')"
   ]
  },
  {
   "cell_type": "markdown",
   "id": "f21d8111-e56b-4d56-ae12-a4e779d6173e",
   "metadata": {},
   "source": [
    "### Which model performs best on our out-of-sample data from validate?"
   ]
  },
  {
   "cell_type": "markdown",
   "id": "1ffbb82a-aa5a-4649-a10f-6596d57eadc7",
   "metadata": {},
   "source": [
    "#### Answer: Just looking at out out-of-sample data, Model 2 does the best at almost 74%, only seeing about a 1% drop off from the in-sample data. This is our best model."
   ]
  }
 ],
 "metadata": {
  "kernelspec": {
   "display_name": "Python 3 (ipykernel)",
   "language": "python",
   "name": "python3"
  },
  "language_info": {
   "codemirror_mode": {
    "name": "ipython",
    "version": 3
   },
   "file_extension": ".py",
   "mimetype": "text/x-python",
   "name": "python",
   "nbconvert_exporter": "python",
   "pygments_lexer": "ipython3",
   "version": "3.11.3"
  }
 },
 "nbformat": 4,
 "nbformat_minor": 5
}
