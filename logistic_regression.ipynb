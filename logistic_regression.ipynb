{
 "cells": [
  {
   "cell_type": "code",
   "execution_count": 1,
   "id": "a418fcd6-8cd1-41eb-8a8f-db7319d0f2fc",
   "metadata": {
    "tags": []
   },
   "outputs": [],
   "source": [
    "import warnings\n",
    "warnings.filterwarnings(\"ignore\")\n",
    "\n",
    "import pandas as pd\n",
    "import numpy as np\n",
    "\n",
    "%matplotlib inline\n",
    "import matplotlib.pyplot as plt\n",
    "import seaborn as sns\n",
    "\n",
    "from sklearn.model_selection import train_test_split\n",
    "from sklearn.linear_model import LogisticRegression\n",
    "\n",
    "from sklearn.metrics import classification_report\n",
    "from sklearn.metrics import confusion_matrix, ConfusionMatrixDisplay\n",
    "\n",
    "from acquire import get_titanic_data\n",
    "\n",
    "from pydataset import data\n",
    "from prepare import tvt"
   ]
  },
  {
   "cell_type": "markdown",
   "id": "54b86a8d-d910-45fe-9f88-2929ddf62769",
   "metadata": {},
   "source": [
    "# Exercises\n",
    "## In these exercises, we'll continue working with the titanic dataset and building logistic regression models. Throughout this exercise, be sure you are training, evaluating, and comparing models on the train and validate datasets. The test dataset should only be used for your final model."
   ]
  },
  {
   "cell_type": "code",
   "execution_count": 2,
   "id": "206cefa4-b44a-4771-8e0d-f6953b784ba7",
   "metadata": {
    "tags": []
   },
   "outputs": [
    {
     "data": {
      "text/html": [
       "<div>\n",
       "<style scoped>\n",
       "    .dataframe tbody tr th:only-of-type {\n",
       "        vertical-align: middle;\n",
       "    }\n",
       "\n",
       "    .dataframe tbody tr th {\n",
       "        vertical-align: top;\n",
       "    }\n",
       "\n",
       "    .dataframe thead th {\n",
       "        text-align: right;\n",
       "    }\n",
       "</style>\n",
       "<table border=\"1\" class=\"dataframe\">\n",
       "  <thead>\n",
       "    <tr style=\"text-align: right;\">\n",
       "      <th></th>\n",
       "      <th>passenger_id</th>\n",
       "      <th>survived</th>\n",
       "      <th>pclass</th>\n",
       "      <th>sex</th>\n",
       "      <th>age</th>\n",
       "      <th>sibsp</th>\n",
       "      <th>parch</th>\n",
       "      <th>fare</th>\n",
       "      <th>embarked</th>\n",
       "      <th>class</th>\n",
       "      <th>deck</th>\n",
       "      <th>embark_town</th>\n",
       "      <th>alone</th>\n",
       "    </tr>\n",
       "  </thead>\n",
       "  <tbody>\n",
       "    <tr>\n",
       "      <th>0</th>\n",
       "      <td>0</td>\n",
       "      <td>0</td>\n",
       "      <td>3</td>\n",
       "      <td>male</td>\n",
       "      <td>22.0</td>\n",
       "      <td>1</td>\n",
       "      <td>0</td>\n",
       "      <td>7.2500</td>\n",
       "      <td>S</td>\n",
       "      <td>Third</td>\n",
       "      <td>NaN</td>\n",
       "      <td>Southampton</td>\n",
       "      <td>0</td>\n",
       "    </tr>\n",
       "    <tr>\n",
       "      <th>1</th>\n",
       "      <td>1</td>\n",
       "      <td>1</td>\n",
       "      <td>1</td>\n",
       "      <td>female</td>\n",
       "      <td>38.0</td>\n",
       "      <td>1</td>\n",
       "      <td>0</td>\n",
       "      <td>71.2833</td>\n",
       "      <td>C</td>\n",
       "      <td>First</td>\n",
       "      <td>C</td>\n",
       "      <td>Cherbourg</td>\n",
       "      <td>0</td>\n",
       "    </tr>\n",
       "    <tr>\n",
       "      <th>2</th>\n",
       "      <td>2</td>\n",
       "      <td>1</td>\n",
       "      <td>3</td>\n",
       "      <td>female</td>\n",
       "      <td>26.0</td>\n",
       "      <td>0</td>\n",
       "      <td>0</td>\n",
       "      <td>7.9250</td>\n",
       "      <td>S</td>\n",
       "      <td>Third</td>\n",
       "      <td>NaN</td>\n",
       "      <td>Southampton</td>\n",
       "      <td>1</td>\n",
       "    </tr>\n",
       "    <tr>\n",
       "      <th>3</th>\n",
       "      <td>3</td>\n",
       "      <td>1</td>\n",
       "      <td>1</td>\n",
       "      <td>female</td>\n",
       "      <td>35.0</td>\n",
       "      <td>1</td>\n",
       "      <td>0</td>\n",
       "      <td>53.1000</td>\n",
       "      <td>S</td>\n",
       "      <td>First</td>\n",
       "      <td>C</td>\n",
       "      <td>Southampton</td>\n",
       "      <td>0</td>\n",
       "    </tr>\n",
       "    <tr>\n",
       "      <th>4</th>\n",
       "      <td>4</td>\n",
       "      <td>0</td>\n",
       "      <td>3</td>\n",
       "      <td>male</td>\n",
       "      <td>35.0</td>\n",
       "      <td>0</td>\n",
       "      <td>0</td>\n",
       "      <td>8.0500</td>\n",
       "      <td>S</td>\n",
       "      <td>Third</td>\n",
       "      <td>NaN</td>\n",
       "      <td>Southampton</td>\n",
       "      <td>1</td>\n",
       "    </tr>\n",
       "  </tbody>\n",
       "</table>\n",
       "</div>"
      ],
      "text/plain": [
       "   passenger_id  survived  pclass     sex   age  sibsp  parch     fare  \\\n",
       "0             0         0       3    male  22.0      1      0   7.2500   \n",
       "1             1         1       1  female  38.0      1      0  71.2833   \n",
       "2             2         1       3  female  26.0      0      0   7.9250   \n",
       "3             3         1       1  female  35.0      1      0  53.1000   \n",
       "4             4         0       3    male  35.0      0      0   8.0500   \n",
       "\n",
       "  embarked  class deck  embark_town  alone  \n",
       "0        S  Third  NaN  Southampton      0  \n",
       "1        C  First    C    Cherbourg      0  \n",
       "2        S  Third  NaN  Southampton      1  \n",
       "3        S  First    C  Southampton      0  \n",
       "4        S  Third  NaN  Southampton      1  "
      ]
     },
     "execution_count": 2,
     "metadata": {},
     "output_type": "execute_result"
    }
   ],
   "source": [
    "titanic = get_titanic_data()\n",
    "titanic.head()"
   ]
  },
  {
   "cell_type": "code",
   "execution_count": 3,
   "id": "2be3bd10-99ac-4888-8133-682a28ff881d",
   "metadata": {
    "tags": []
   },
   "outputs": [],
   "source": [
    "def dropped(titanic,columns={'sepal_length', 'petal_width'}):\n",
    "    '''\n",
    "    dropped will take the dataframe and remove any columns that are indicated,\n",
    "    hopefully making the process faster\n",
    "    '''\n",
    "    titanic = titanic.drop(columns=columns)\n",
    "    return titanic\n",
    "\n",
    "def prep_titanic(titanic):\n",
    "    '''\n",
    "    prep_titanic will do all the cleaning we need of the database 'titanic_db'.\n",
    "    It will:\n",
    "    - drop unnecessary columns ('deck', 'embark_town', 'pclass')\n",
    "    - fill in null values from columns (embarked' and 'age')\n",
    "    - create dummy variables for the categorical columns 'sex', 'embarked', and 'class'\n",
    "    - concatenate the previous dataframe to the new ones with dummy variables\n",
    "    \n",
    "    return: concatenated and cleaned dataframe 'titanic_db' as 'df'\n",
    "    '''\n",
    "    titanic = dropped(titanic,columns={'deck', 'embark_town', 'pclass', 'passenger_id'})\n",
    "    round(titanic['age'].mean())\n",
    "    top_embarked = titanic['embarked'].describe()['top']\n",
    "    titanic['embarked'] = titanic['embarked'].fillna(value='S')\n",
    "    titanic['age'] = titanic['age'].fillna(value='30').astype(int)\n",
    "    titanic['sex_encoded'] = titanic['sex'].map({'male': 1, 'female': 0})\n",
    "    titanic['embarked_encoded'] = titanic['embarked'].map({'S': 1, 'C': 0, 'Q':2})\n",
    "    titanic['class_encoded'] = titanic['class'].map({'Second': 1, 'First': 0, 'Third':2})\n",
    "    titanic = dropped(titanic,columns={'sex', 'embarked', 'class'})\n",
    "    return titanic\n",
    "\n",
    "def print_and_label(df):\n",
    "    '''\n",
    "    print_and_label will take a confusion matrix and by indexing, will store and calculate certain criteria for you.\n",
    "    return: accuracy, true positive rate, false positive rate, true negative rate, false negative rate, precision, recall, f1-score, and support.\n",
    "    '''\n",
    "    TP = neo['0_actual']['0_predicted']\n",
    "    FP = neo['1_actual']['0_predicted']\n",
    "    FN = neo['0_actual']['1_predicted']\n",
    "    TN = neo['1_actual']['1_predicted']\n",
    "    neo_accuracy = (TP+TN)/(TP+FP+TN+FN)\n",
    "    neo_precision = (TP)/(TP+FP)\n",
    "    neo_recall = (TP)/(TP+FN)\n",
    "    TPR = (TP)/(TP+FP)\n",
    "    FPR = (FP)/(FP+TN)\n",
    "    TNR = (TN)/(FP+TN)\n",
    "    FNR = (FN)/(FN+TP)\n",
    "    neo_support_0 = TP + FN\n",
    "    neo_support_1 = FP + TN\n",
    "    neo_f1 =  2 * ((neo_precision * neo_recall) / (neo_precision + neo_recall))\n",
    "    return print(f'Accuracy: \\n{neo_accuracy:2%}\\n\\nTrue Positive Rate: \\n{TPR:2%}\\\n",
    "    \\n\\nFalse Positive Rate: \\n{FPR:2%}\\n\\nTrue Negative Rate: \\n{TNR:2%}\\\n",
    "    \\n\\nFalse Negative Rate: \\n{FNR:2%}\\n\\nPrecision: \\n{neo_precision:2%}\\\n",
    "    \\n\\nRecall: \\n{neo_recall:2%}\\n\\nF1 Score: \\n{neo_f1:2%}\\\n",
    "    \\n\\nSupport for Did Not Survive: \\n{neo_support_0}\\n\\nSupport for Did Survive: \\n{neo_support_1}')"
   ]
  },
  {
   "cell_type": "code",
   "execution_count": 4,
   "id": "a8328fdb-6000-4357-96cc-3a2b851a8826",
   "metadata": {
    "tags": []
   },
   "outputs": [
    {
     "data": {
      "text/html": [
       "<div>\n",
       "<style scoped>\n",
       "    .dataframe tbody tr th:only-of-type {\n",
       "        vertical-align: middle;\n",
       "    }\n",
       "\n",
       "    .dataframe tbody tr th {\n",
       "        vertical-align: top;\n",
       "    }\n",
       "\n",
       "    .dataframe thead th {\n",
       "        text-align: right;\n",
       "    }\n",
       "</style>\n",
       "<table border=\"1\" class=\"dataframe\">\n",
       "  <thead>\n",
       "    <tr style=\"text-align: right;\">\n",
       "      <th></th>\n",
       "      <th>survived</th>\n",
       "      <th>age</th>\n",
       "      <th>sibsp</th>\n",
       "      <th>parch</th>\n",
       "      <th>fare</th>\n",
       "      <th>alone</th>\n",
       "      <th>sex_encoded</th>\n",
       "      <th>embarked_encoded</th>\n",
       "      <th>class_encoded</th>\n",
       "    </tr>\n",
       "  </thead>\n",
       "  <tbody>\n",
       "    <tr>\n",
       "      <th>0</th>\n",
       "      <td>0</td>\n",
       "      <td>22</td>\n",
       "      <td>1</td>\n",
       "      <td>0</td>\n",
       "      <td>7.2500</td>\n",
       "      <td>0</td>\n",
       "      <td>1</td>\n",
       "      <td>1</td>\n",
       "      <td>2</td>\n",
       "    </tr>\n",
       "    <tr>\n",
       "      <th>1</th>\n",
       "      <td>1</td>\n",
       "      <td>38</td>\n",
       "      <td>1</td>\n",
       "      <td>0</td>\n",
       "      <td>71.2833</td>\n",
       "      <td>0</td>\n",
       "      <td>0</td>\n",
       "      <td>0</td>\n",
       "      <td>0</td>\n",
       "    </tr>\n",
       "    <tr>\n",
       "      <th>2</th>\n",
       "      <td>1</td>\n",
       "      <td>26</td>\n",
       "      <td>0</td>\n",
       "      <td>0</td>\n",
       "      <td>7.9250</td>\n",
       "      <td>1</td>\n",
       "      <td>0</td>\n",
       "      <td>1</td>\n",
       "      <td>2</td>\n",
       "    </tr>\n",
       "    <tr>\n",
       "      <th>3</th>\n",
       "      <td>1</td>\n",
       "      <td>35</td>\n",
       "      <td>1</td>\n",
       "      <td>0</td>\n",
       "      <td>53.1000</td>\n",
       "      <td>0</td>\n",
       "      <td>0</td>\n",
       "      <td>1</td>\n",
       "      <td>0</td>\n",
       "    </tr>\n",
       "    <tr>\n",
       "      <th>4</th>\n",
       "      <td>0</td>\n",
       "      <td>35</td>\n",
       "      <td>0</td>\n",
       "      <td>0</td>\n",
       "      <td>8.0500</td>\n",
       "      <td>1</td>\n",
       "      <td>1</td>\n",
       "      <td>1</td>\n",
       "      <td>2</td>\n",
       "    </tr>\n",
       "  </tbody>\n",
       "</table>\n",
       "</div>"
      ],
      "text/plain": [
       "   survived  age  sibsp  parch     fare  alone  sex_encoded  embarked_encoded  \\\n",
       "0         0   22      1      0   7.2500      0            1                 1   \n",
       "1         1   38      1      0  71.2833      0            0                 0   \n",
       "2         1   26      0      0   7.9250      1            0                 1   \n",
       "3         1   35      1      0  53.1000      0            0                 1   \n",
       "4         0   35      0      0   8.0500      1            1                 1   \n",
       "\n",
       "   class_encoded  \n",
       "0              2  \n",
       "1              0  \n",
       "2              2  \n",
       "3              0  \n",
       "4              2  "
      ]
     },
     "execution_count": 4,
     "metadata": {},
     "output_type": "execute_result"
    }
   ],
   "source": [
    "titanic = prep_titanic(titanic)\n",
    "titanic.head()"
   ]
  },
  {
   "cell_type": "code",
   "execution_count": 5,
   "id": "14a742dc-2ee7-40a6-a335-ad6c35b89305",
   "metadata": {
    "tags": []
   },
   "outputs": [
    {
     "data": {
      "text/plain": [
       "0.6161616161616161"
      ]
     },
     "execution_count": 5,
     "metadata": {},
     "output_type": "execute_result"
    }
   ],
   "source": [
    "# establishing baseline\n",
    "baseline_accuracy = (titanic['survived'].value_counts().idxmax() == titanic.survived).mean()\n",
    "baseline_accuracy"
   ]
  },
  {
   "cell_type": "markdown",
   "id": "50614afc-e8e7-4dbd-8da9-b5a73a6b1771",
   "metadata": {},
   "source": [
    "## Create a model that includes only age, fare, and pclass. Does this model perform better than your baseline?"
   ]
  },
  {
   "cell_type": "code",
   "execution_count": 6,
   "id": "7923b950-c1e5-46fb-b799-21e054e70519",
   "metadata": {
    "tags": []
   },
   "outputs": [],
   "source": [
    "train, validate, test = tvt(titanic, ['survived'])\n",
    "\n",
    "X_train1 = train.drop(columns=['survived', 'parch', 'sex_encoded', 'embarked_encoded', 'alone', 'sibsp'])\n",
    "y_train1 = train.survived\n",
    "\n",
    "X_validate1 = validate.drop(columns=['survived', 'parch', 'sex_encoded', 'embarked_encoded', 'alone', 'sibsp'])\n",
    "y_validate1 = validate.survived\n",
    "\n",
    "X_test1 = test.drop(columns=['survived', 'parch', 'sex_encoded', 'embarked_encoded', 'alone', 'sibsp'])\n",
    "y_test1 = test.survived"
   ]
  },
  {
   "cell_type": "code",
   "execution_count": 7,
   "id": "674d947f-6eba-4dbf-ad05-6b0b04514a18",
   "metadata": {
    "tags": []
   },
   "outputs": [
    {
     "data": {
      "text/html": [
       "<div>\n",
       "<style scoped>\n",
       "    .dataframe tbody tr th:only-of-type {\n",
       "        vertical-align: middle;\n",
       "    }\n",
       "\n",
       "    .dataframe tbody tr th {\n",
       "        vertical-align: top;\n",
       "    }\n",
       "\n",
       "    .dataframe thead th {\n",
       "        text-align: right;\n",
       "    }\n",
       "</style>\n",
       "<table border=\"1\" class=\"dataframe\">\n",
       "  <thead>\n",
       "    <tr style=\"text-align: right;\">\n",
       "      <th></th>\n",
       "      <th>age</th>\n",
       "      <th>fare</th>\n",
       "      <th>class_encoded</th>\n",
       "    </tr>\n",
       "  </thead>\n",
       "  <tbody>\n",
       "    <tr>\n",
       "      <th>72</th>\n",
       "      <td>21</td>\n",
       "      <td>73.5000</td>\n",
       "      <td>1</td>\n",
       "    </tr>\n",
       "    <tr>\n",
       "      <th>682</th>\n",
       "      <td>20</td>\n",
       "      <td>9.2250</td>\n",
       "      <td>2</td>\n",
       "    </tr>\n",
       "    <tr>\n",
       "      <th>399</th>\n",
       "      <td>28</td>\n",
       "      <td>12.6500</td>\n",
       "      <td>1</td>\n",
       "    </tr>\n",
       "    <tr>\n",
       "      <th>756</th>\n",
       "      <td>28</td>\n",
       "      <td>7.7958</td>\n",
       "      <td>2</td>\n",
       "    </tr>\n",
       "    <tr>\n",
       "      <th>394</th>\n",
       "      <td>24</td>\n",
       "      <td>16.7000</td>\n",
       "      <td>2</td>\n",
       "    </tr>\n",
       "  </tbody>\n",
       "</table>\n",
       "</div>"
      ],
      "text/plain": [
       "     age     fare  class_encoded\n",
       "72    21  73.5000              1\n",
       "682   20   9.2250              2\n",
       "399   28  12.6500              1\n",
       "756   28   7.7958              2\n",
       "394   24  16.7000              2"
      ]
     },
     "execution_count": 7,
     "metadata": {},
     "output_type": "execute_result"
    }
   ],
   "source": [
    "X_train1.head()"
   ]
  },
  {
   "cell_type": "code",
   "execution_count": 8,
   "id": "be5e2f49-0d86-45f2-bec1-15c79f61af5f",
   "metadata": {
    "tags": []
   },
   "outputs": [
    {
     "data": {
      "text/html": [
       "<style>#sk-container-id-1 {color: black;background-color: white;}#sk-container-id-1 pre{padding: 0;}#sk-container-id-1 div.sk-toggleable {background-color: white;}#sk-container-id-1 label.sk-toggleable__label {cursor: pointer;display: block;width: 100%;margin-bottom: 0;padding: 0.3em;box-sizing: border-box;text-align: center;}#sk-container-id-1 label.sk-toggleable__label-arrow:before {content: \"▸\";float: left;margin-right: 0.25em;color: #696969;}#sk-container-id-1 label.sk-toggleable__label-arrow:hover:before {color: black;}#sk-container-id-1 div.sk-estimator:hover label.sk-toggleable__label-arrow:before {color: black;}#sk-container-id-1 div.sk-toggleable__content {max-height: 0;max-width: 0;overflow: hidden;text-align: left;background-color: #f0f8ff;}#sk-container-id-1 div.sk-toggleable__content pre {margin: 0.2em;color: black;border-radius: 0.25em;background-color: #f0f8ff;}#sk-container-id-1 input.sk-toggleable__control:checked~div.sk-toggleable__content {max-height: 200px;max-width: 100%;overflow: auto;}#sk-container-id-1 input.sk-toggleable__control:checked~label.sk-toggleable__label-arrow:before {content: \"▾\";}#sk-container-id-1 div.sk-estimator input.sk-toggleable__control:checked~label.sk-toggleable__label {background-color: #d4ebff;}#sk-container-id-1 div.sk-label input.sk-toggleable__control:checked~label.sk-toggleable__label {background-color: #d4ebff;}#sk-container-id-1 input.sk-hidden--visually {border: 0;clip: rect(1px 1px 1px 1px);clip: rect(1px, 1px, 1px, 1px);height: 1px;margin: -1px;overflow: hidden;padding: 0;position: absolute;width: 1px;}#sk-container-id-1 div.sk-estimator {font-family: monospace;background-color: #f0f8ff;border: 1px dotted black;border-radius: 0.25em;box-sizing: border-box;margin-bottom: 0.5em;}#sk-container-id-1 div.sk-estimator:hover {background-color: #d4ebff;}#sk-container-id-1 div.sk-parallel-item::after {content: \"\";width: 100%;border-bottom: 1px solid gray;flex-grow: 1;}#sk-container-id-1 div.sk-label:hover label.sk-toggleable__label {background-color: #d4ebff;}#sk-container-id-1 div.sk-serial::before {content: \"\";position: absolute;border-left: 1px solid gray;box-sizing: border-box;top: 0;bottom: 0;left: 50%;z-index: 0;}#sk-container-id-1 div.sk-serial {display: flex;flex-direction: column;align-items: center;background-color: white;padding-right: 0.2em;padding-left: 0.2em;position: relative;}#sk-container-id-1 div.sk-item {position: relative;z-index: 1;}#sk-container-id-1 div.sk-parallel {display: flex;align-items: stretch;justify-content: center;background-color: white;position: relative;}#sk-container-id-1 div.sk-item::before, #sk-container-id-1 div.sk-parallel-item::before {content: \"\";position: absolute;border-left: 1px solid gray;box-sizing: border-box;top: 0;bottom: 0;left: 50%;z-index: -1;}#sk-container-id-1 div.sk-parallel-item {display: flex;flex-direction: column;z-index: 1;position: relative;background-color: white;}#sk-container-id-1 div.sk-parallel-item:first-child::after {align-self: flex-end;width: 50%;}#sk-container-id-1 div.sk-parallel-item:last-child::after {align-self: flex-start;width: 50%;}#sk-container-id-1 div.sk-parallel-item:only-child::after {width: 0;}#sk-container-id-1 div.sk-dashed-wrapped {border: 1px dashed gray;margin: 0 0.4em 0.5em 0.4em;box-sizing: border-box;padding-bottom: 0.4em;background-color: white;}#sk-container-id-1 div.sk-label label {font-family: monospace;font-weight: bold;display: inline-block;line-height: 1.2em;}#sk-container-id-1 div.sk-label-container {text-align: center;}#sk-container-id-1 div.sk-container {/* jupyter's `normalize.less` sets `[hidden] { display: none; }` but bootstrap.min.css set `[hidden] { display: none !important; }` so we also need the `!important` here to be able to override the default hidden behavior on the sphinx rendered scikit-learn.org. See: https://github.com/scikit-learn/scikit-learn/issues/21755 */display: inline-block !important;position: relative;}#sk-container-id-1 div.sk-text-repr-fallback {display: none;}</style><div id=\"sk-container-id-1\" class=\"sk-top-container\"><div class=\"sk-text-repr-fallback\"><pre>LogisticRegression()</pre><b>In a Jupyter environment, please rerun this cell to show the HTML representation or trust the notebook. <br />On GitHub, the HTML representation is unable to render, please try loading this page with nbviewer.org.</b></div><div class=\"sk-container\" hidden><div class=\"sk-item\"><div class=\"sk-estimator sk-toggleable\"><input class=\"sk-toggleable__control sk-hidden--visually\" id=\"sk-estimator-id-1\" type=\"checkbox\" checked><label for=\"sk-estimator-id-1\" class=\"sk-toggleable__label sk-toggleable__label-arrow\">LogisticRegression</label><div class=\"sk-toggleable__content\"><pre>LogisticRegression()</pre></div></div></div></div></div>"
      ],
      "text/plain": [
       "LogisticRegression()"
      ]
     },
     "execution_count": 8,
     "metadata": {},
     "output_type": "execute_result"
    }
   ],
   "source": [
    "logit1 = LogisticRegression()\n",
    "logit1.fit(X_train1, y_train1)"
   ]
  },
  {
   "cell_type": "code",
   "execution_count": 9,
   "id": "4ab1defe-58ce-4145-9f77-ad73b2020c41",
   "metadata": {
    "tags": []
   },
   "outputs": [
    {
     "data": {
      "text/plain": [
       "array([1, 0, 0, 0, 0])"
      ]
     },
     "execution_count": 9,
     "metadata": {},
     "output_type": "execute_result"
    }
   ],
   "source": [
    "y_pred1 = logit1.predict(X_train1)\n",
    "y_pred1[:5]"
   ]
  },
  {
   "cell_type": "code",
   "execution_count": 10,
   "id": "c253f2b6-1751-461e-b308-d170e7f9129a",
   "metadata": {
    "tags": []
   },
   "outputs": [
    {
     "data": {
      "text/plain": [
       "array([[0.4608449 , 0.5391551 ],\n",
       "       [0.72074835, 0.27925165],\n",
       "       [0.53746511, 0.46253489],\n",
       "       [0.76877933, 0.23122067],\n",
       "       [0.74327439, 0.25672561]])"
      ]
     },
     "execution_count": 10,
     "metadata": {},
     "output_type": "execute_result"
    }
   ],
   "source": [
    "y_pred_prob1 = logit1.predict_proba(X_train1)\n",
    "y_pred_prob1[:5]"
   ]
  },
  {
   "cell_type": "code",
   "execution_count": 11,
   "id": "e0ede18a-ad62-47fd-b100-77fd16a1361e",
   "metadata": {
    "tags": []
   },
   "outputs": [],
   "source": [
    "model_1_train = logit1.score(X_train1,y_train1)\n",
    "model_1_validate = logit1.score(X_validate1,y_validate1)\n",
    "model_1_overfit = model_1_train-model_1_validate\n",
    "model_1_beat_baseline = model_1_train - baseline_accuracy"
   ]
  },
  {
   "cell_type": "code",
   "execution_count": 12,
   "id": "4294789b-8d7f-4b47-9cad-88d05440b003",
   "metadata": {
    "tags": []
   },
   "outputs": [
    {
     "name": "stdout",
     "output_type": "stream",
     "text": [
      "Accuracy Scores:\n",
      "\n",
      "Baseline Accuracy:\n",
      "61.616162%\n",
      "\n",
      "Model 1 Training Set:\n",
      "69.477912%\n",
      "\n",
      "Model 1 Validation Set:\n",
      "70.560748%\n",
      "\n",
      "Model 1 Overfit:\n",
      "-1.082836%\n",
      "\n",
      "Model 1 Beat Baseline Accuracy by:\n",
      "7.861750%\n"
     ]
    }
   ],
   "source": [
    "print(f'Accuracy Scores:\\n\\\n",
    "\\nBaseline Accuracy:\\n{baseline_accuracy:2%}\\\n",
    "\\n\\nModel 1 Training Set:\\n{model_1_train:2%}\\n\\nModel 1 Validation Set:\\n{model_1_validate:2%}\\n\\nModel 1 Overfit:\\n{model_1_overfit:2%}\\n\\n\\\n",
    "Model 1 Beat Baseline Accuracy by:\\n{model_1_beat_baseline:2%}')"
   ]
  },
  {
   "cell_type": "markdown",
   "id": "6dfc8b49-367c-49b9-9983-d201bd82f434",
   "metadata": {},
   "source": [
    "## Include sex in your model as well. Note that you'll need to encode or create a dummy variable of this feature before including it in a model."
   ]
  },
  {
   "cell_type": "code",
   "execution_count": 13,
   "id": "b492b629-edb6-4f3a-9559-25172520b298",
   "metadata": {
    "tags": []
   },
   "outputs": [],
   "source": [
    "titanic = get_titanic_data()"
   ]
  },
  {
   "cell_type": "code",
   "execution_count": 14,
   "id": "f4a6355e-79f0-47ad-939a-8a9f1260248b",
   "metadata": {
    "tags": []
   },
   "outputs": [],
   "source": [
    "titanic = prep_titanic(titanic)"
   ]
  },
  {
   "cell_type": "code",
   "execution_count": 15,
   "id": "0e971dfb-0298-43d2-afa1-b00e114660bb",
   "metadata": {
    "tags": []
   },
   "outputs": [],
   "source": [
    "train, validate, test = tvt(titanic, ['survived'])\n",
    "\n",
    "X_train2 = train.drop(columns=['survived', 'parch', 'embarked_encoded', 'alone', 'sibsp'])\n",
    "y_train2 = train.survived\n",
    "\n",
    "X_validate2 = validate.drop(columns=['survived', 'parch', 'embarked_encoded', 'alone', 'sibsp'])\n",
    "y_validate2 = validate.survived\n",
    "\n",
    "X_test2 = test.drop(columns=['survived', 'parch', 'embarked_encoded', 'alone', 'sibsp'])\n",
    "y_test2 = test.survived"
   ]
  },
  {
   "cell_type": "code",
   "execution_count": 16,
   "id": "35a78ff7-5478-4525-8ddf-5bca1f7b802c",
   "metadata": {
    "tags": []
   },
   "outputs": [
    {
     "data": {
      "text/plain": [
       "array([[0.71124139, 0.28875861],\n",
       "       [0.88214019, 0.11785981],\n",
       "       [0.19781408, 0.80218592],\n",
       "       [0.90268428, 0.09731572],\n",
       "       [0.42279187, 0.57720813]])"
      ]
     },
     "execution_count": 16,
     "metadata": {},
     "output_type": "execute_result"
    }
   ],
   "source": [
    "logit2 = LogisticRegression()\n",
    "logit2.fit(X_train2, y_train2)\n",
    "\n",
    "y_pred2 = logit2.predict(X_train2)\n",
    "y_pred2[:5]\n",
    "\n",
    "y_pred_prob2 = logit2.predict_proba(X_train2)\n",
    "y_pred_prob2[:5]"
   ]
  },
  {
   "cell_type": "code",
   "execution_count": 17,
   "id": "d06e287b-1ef1-4e6a-a353-0183e49d783a",
   "metadata": {
    "tags": []
   },
   "outputs": [
    {
     "name": "stdout",
     "output_type": "stream",
     "text": [
      "Accuracy Scores:\n",
      "\n",
      "Baseline Accuracy:\n",
      "61.616162%\n",
      "\n",
      "Model 2 Training Set:\n",
      "78.714859%\n",
      "\n",
      "Model 2 Validation Set:\n",
      "80.373832%\n",
      "\n",
      "Model 2 Overfit:\n",
      "-1.658972%\n",
      "\n",
      "Model 2 Beat Baseline Accuracy by:\n",
      "17.098698%\n"
     ]
    }
   ],
   "source": [
    "model_2_train = logit2.score(X_train2,y_train2)\n",
    "model_2_validate = logit2.score(X_validate2,y_validate2)\n",
    "model_2_overfit = model_2_train-model_2_validate\n",
    "model_2_beat_baseline = model_2_train - baseline_accuracy\n",
    "\n",
    "print(f'Accuracy Scores:\\n\\\n",
    "\\nBaseline Accuracy:\\n{baseline_accuracy:2%}\\\n",
    "\\n\\nModel 2 Training Set:\\n{model_2_train:2%}\\n\\nModel 2 Validation Set:\\n{model_2_validate:2%}\\n\\nModel 2 Overfit:\\n{model_2_overfit:2%}\\n\\n\\\n",
    "Model 2 Beat Baseline Accuracy by:\\n{model_2_beat_baseline:2%}')"
   ]
  },
  {
   "cell_type": "markdown",
   "id": "cade4910-fe35-4b87-ab9b-973db01c7eaa",
   "metadata": {},
   "source": [
    "## Try out other combinations of features and models."
   ]
  },
  {
   "cell_type": "code",
   "execution_count": 18,
   "id": "7a989c75-fe8c-4c2b-9c51-b17ff023b12c",
   "metadata": {},
   "outputs": [],
   "source": [
    "titanic = get_titanic_data()"
   ]
  },
  {
   "cell_type": "code",
   "execution_count": 19,
   "id": "9287fc74-78fe-40dd-96cc-403c79c5e2e6",
   "metadata": {},
   "outputs": [],
   "source": [
    "titanic = prep_titanic(titanic)"
   ]
  },
  {
   "cell_type": "code",
   "execution_count": 20,
   "id": "82d7c84b-d893-40c1-88e5-9b08b071359c",
   "metadata": {},
   "outputs": [],
   "source": [
    "train, validate, test = tvt(titanic, ['survived'])\n",
    "\n",
    "X_train3 = train.drop(columns=['survived', 'alone', 'sibsp'])\n",
    "y_train3 = train.survived\n",
    "\n",
    "X_validate3 = validate.drop(columns=['survived', 'alone', 'sibsp'])\n",
    "y_validate3 = validate.survived\n",
    "\n",
    "X_test3 = test.drop(columns=['survived', 'alone', 'sibsp'])\n",
    "y_test3 = test.survived"
   ]
  },
  {
   "cell_type": "code",
   "execution_count": 21,
   "id": "ca66aec1-cc08-4efb-bfb7-ee395fd8c0bf",
   "metadata": {},
   "outputs": [
    {
     "data": {
      "text/html": [
       "<style>#sk-container-id-2 {color: black;background-color: white;}#sk-container-id-2 pre{padding: 0;}#sk-container-id-2 div.sk-toggleable {background-color: white;}#sk-container-id-2 label.sk-toggleable__label {cursor: pointer;display: block;width: 100%;margin-bottom: 0;padding: 0.3em;box-sizing: border-box;text-align: center;}#sk-container-id-2 label.sk-toggleable__label-arrow:before {content: \"▸\";float: left;margin-right: 0.25em;color: #696969;}#sk-container-id-2 label.sk-toggleable__label-arrow:hover:before {color: black;}#sk-container-id-2 div.sk-estimator:hover label.sk-toggleable__label-arrow:before {color: black;}#sk-container-id-2 div.sk-toggleable__content {max-height: 0;max-width: 0;overflow: hidden;text-align: left;background-color: #f0f8ff;}#sk-container-id-2 div.sk-toggleable__content pre {margin: 0.2em;color: black;border-radius: 0.25em;background-color: #f0f8ff;}#sk-container-id-2 input.sk-toggleable__control:checked~div.sk-toggleable__content {max-height: 200px;max-width: 100%;overflow: auto;}#sk-container-id-2 input.sk-toggleable__control:checked~label.sk-toggleable__label-arrow:before {content: \"▾\";}#sk-container-id-2 div.sk-estimator input.sk-toggleable__control:checked~label.sk-toggleable__label {background-color: #d4ebff;}#sk-container-id-2 div.sk-label input.sk-toggleable__control:checked~label.sk-toggleable__label {background-color: #d4ebff;}#sk-container-id-2 input.sk-hidden--visually {border: 0;clip: rect(1px 1px 1px 1px);clip: rect(1px, 1px, 1px, 1px);height: 1px;margin: -1px;overflow: hidden;padding: 0;position: absolute;width: 1px;}#sk-container-id-2 div.sk-estimator {font-family: monospace;background-color: #f0f8ff;border: 1px dotted black;border-radius: 0.25em;box-sizing: border-box;margin-bottom: 0.5em;}#sk-container-id-2 div.sk-estimator:hover {background-color: #d4ebff;}#sk-container-id-2 div.sk-parallel-item::after {content: \"\";width: 100%;border-bottom: 1px solid gray;flex-grow: 1;}#sk-container-id-2 div.sk-label:hover label.sk-toggleable__label {background-color: #d4ebff;}#sk-container-id-2 div.sk-serial::before {content: \"\";position: absolute;border-left: 1px solid gray;box-sizing: border-box;top: 0;bottom: 0;left: 50%;z-index: 0;}#sk-container-id-2 div.sk-serial {display: flex;flex-direction: column;align-items: center;background-color: white;padding-right: 0.2em;padding-left: 0.2em;position: relative;}#sk-container-id-2 div.sk-item {position: relative;z-index: 1;}#sk-container-id-2 div.sk-parallel {display: flex;align-items: stretch;justify-content: center;background-color: white;position: relative;}#sk-container-id-2 div.sk-item::before, #sk-container-id-2 div.sk-parallel-item::before {content: \"\";position: absolute;border-left: 1px solid gray;box-sizing: border-box;top: 0;bottom: 0;left: 50%;z-index: -1;}#sk-container-id-2 div.sk-parallel-item {display: flex;flex-direction: column;z-index: 1;position: relative;background-color: white;}#sk-container-id-2 div.sk-parallel-item:first-child::after {align-self: flex-end;width: 50%;}#sk-container-id-2 div.sk-parallel-item:last-child::after {align-self: flex-start;width: 50%;}#sk-container-id-2 div.sk-parallel-item:only-child::after {width: 0;}#sk-container-id-2 div.sk-dashed-wrapped {border: 1px dashed gray;margin: 0 0.4em 0.5em 0.4em;box-sizing: border-box;padding-bottom: 0.4em;background-color: white;}#sk-container-id-2 div.sk-label label {font-family: monospace;font-weight: bold;display: inline-block;line-height: 1.2em;}#sk-container-id-2 div.sk-label-container {text-align: center;}#sk-container-id-2 div.sk-container {/* jupyter's `normalize.less` sets `[hidden] { display: none; }` but bootstrap.min.css set `[hidden] { display: none !important; }` so we also need the `!important` here to be able to override the default hidden behavior on the sphinx rendered scikit-learn.org. See: https://github.com/scikit-learn/scikit-learn/issues/21755 */display: inline-block !important;position: relative;}#sk-container-id-2 div.sk-text-repr-fallback {display: none;}</style><div id=\"sk-container-id-2\" class=\"sk-top-container\"><div class=\"sk-text-repr-fallback\"><pre>LogisticRegression()</pre><b>In a Jupyter environment, please rerun this cell to show the HTML representation or trust the notebook. <br />On GitHub, the HTML representation is unable to render, please try loading this page with nbviewer.org.</b></div><div class=\"sk-container\" hidden><div class=\"sk-item\"><div class=\"sk-estimator sk-toggleable\"><input class=\"sk-toggleable__control sk-hidden--visually\" id=\"sk-estimator-id-2\" type=\"checkbox\" checked><label for=\"sk-estimator-id-2\" class=\"sk-toggleable__label sk-toggleable__label-arrow\">LogisticRegression</label><div class=\"sk-toggleable__content\"><pre>LogisticRegression()</pre></div></div></div></div></div>"
      ],
      "text/plain": [
       "LogisticRegression()"
      ]
     },
     "execution_count": 21,
     "metadata": {},
     "output_type": "execute_result"
    }
   ],
   "source": [
    "logit3 = LogisticRegression()\n",
    "logit3.fit(X_train3, y_train3)"
   ]
  },
  {
   "cell_type": "code",
   "execution_count": 22,
   "id": "9e4e0307-8918-4201-bcec-2abde58935e1",
   "metadata": {},
   "outputs": [
    {
     "data": {
      "text/plain": [
       "array([0, 0, 1, 0, 0])"
      ]
     },
     "execution_count": 22,
     "metadata": {},
     "output_type": "execute_result"
    }
   ],
   "source": [
    "y_pred3 = logit3.predict(X_train3)\n",
    "y_pred3[:5]"
   ]
  },
  {
   "cell_type": "code",
   "execution_count": 23,
   "id": "21d7145a-7d30-4146-81fb-8012002ede54",
   "metadata": {},
   "outputs": [
    {
     "data": {
      "text/plain": [
       "array([[0.68378754, 0.31621246],\n",
       "       [0.87271875, 0.12728125],\n",
       "       [0.17961923, 0.82038077],\n",
       "       [0.89585135, 0.10414865],\n",
       "       [0.50043772, 0.49956228]])"
      ]
     },
     "execution_count": 23,
     "metadata": {},
     "output_type": "execute_result"
    }
   ],
   "source": [
    "y_pred_prob3 = logit3.predict_proba(X_train3)\n",
    "y_pred_prob3[:5]"
   ]
  },
  {
   "cell_type": "code",
   "execution_count": 24,
   "id": "eda3effa-9b7b-49d0-a50b-26f4a4120363",
   "metadata": {},
   "outputs": [
    {
     "name": "stdout",
     "output_type": "stream",
     "text": [
      "Accuracy Scores:\n",
      "\n",
      "Baseline Accuracy:\n",
      "61.616162%\n",
      "\n",
      "Model 3 Training Set:\n",
      "78.313253%\n",
      "\n",
      "Model 3 Validation Set:\n",
      "80.841121%\n",
      "\n",
      "Model 3 Overfit:\n",
      "-2.527868%\n",
      "\n",
      "Model 3 Beat Baseline Accuracy by:\n",
      "16.697091%\n"
     ]
    }
   ],
   "source": [
    "model_3_train = logit3.score(X_train3,y_train3)\n",
    "model_3_validate = logit3.score(X_validate3,y_validate3)\n",
    "model_3_overfit = model_3_train-model_3_validate\n",
    "model_3_beat_baseline = model_3_train - baseline_accuracy\n",
    "\n",
    "print(f'Accuracy Scores:\\n\\\n",
    "\\nBaseline Accuracy:\\n{baseline_accuracy:3%}\\\n",
    "\\n\\nModel 3 Training Set:\\n{model_3_train:3%}\\n\\nModel 3 Validation Set:\\n{model_3_validate:3%}\\n\\nModel 3 Overfit:\\n{model_3_overfit:3%}\\n\\n\\\n",
    "Model 3 Beat Baseline Accuracy by:\\n{model_3_beat_baseline:3%}')"
   ]
  },
  {
   "cell_type": "code",
   "execution_count": 25,
   "id": "010f7822-b78f-4e4b-82e3-ba55c7fee8ab",
   "metadata": {},
   "outputs": [],
   "source": [
    "titanic = get_titanic_data()"
   ]
  },
  {
   "cell_type": "code",
   "execution_count": 26,
   "id": "42b3e240-58db-4a88-86f9-6eb1e2cd9b30",
   "metadata": {},
   "outputs": [],
   "source": [
    "titanic = prep_titanic(titanic)"
   ]
  },
  {
   "cell_type": "code",
   "execution_count": 27,
   "id": "39d4eb41-28d9-4381-8da6-b1c85d0e54a0",
   "metadata": {},
   "outputs": [],
   "source": [
    "train, validate, test = tvt(titanic, ['survived'])\n",
    "\n",
    "X_train4 = train.drop(columns=['survived', 'parch', 'embarked_encoded', 'alone'])\n",
    "y_train4 = train.survived\n",
    "\n",
    "X_validate4 = validate.drop(columns=['survived', 'parch', 'embarked_encoded', 'alone'])\n",
    "y_validate4 = validate.survived\n",
    "\n",
    "X_test4 = test.drop(columns=['survived', 'parch', 'embarked_encoded', 'alone'])\n",
    "y_test4 = test.survived"
   ]
  },
  {
   "cell_type": "code",
   "execution_count": 28,
   "id": "21bed045-bb9d-4944-880e-f812accc29d3",
   "metadata": {},
   "outputs": [
    {
     "data": {
      "text/html": [
       "<style>#sk-container-id-3 {color: black;background-color: white;}#sk-container-id-3 pre{padding: 0;}#sk-container-id-3 div.sk-toggleable {background-color: white;}#sk-container-id-3 label.sk-toggleable__label {cursor: pointer;display: block;width: 100%;margin-bottom: 0;padding: 0.3em;box-sizing: border-box;text-align: center;}#sk-container-id-3 label.sk-toggleable__label-arrow:before {content: \"▸\";float: left;margin-right: 0.25em;color: #696969;}#sk-container-id-3 label.sk-toggleable__label-arrow:hover:before {color: black;}#sk-container-id-3 div.sk-estimator:hover label.sk-toggleable__label-arrow:before {color: black;}#sk-container-id-3 div.sk-toggleable__content {max-height: 0;max-width: 0;overflow: hidden;text-align: left;background-color: #f0f8ff;}#sk-container-id-3 div.sk-toggleable__content pre {margin: 0.2em;color: black;border-radius: 0.25em;background-color: #f0f8ff;}#sk-container-id-3 input.sk-toggleable__control:checked~div.sk-toggleable__content {max-height: 200px;max-width: 100%;overflow: auto;}#sk-container-id-3 input.sk-toggleable__control:checked~label.sk-toggleable__label-arrow:before {content: \"▾\";}#sk-container-id-3 div.sk-estimator input.sk-toggleable__control:checked~label.sk-toggleable__label {background-color: #d4ebff;}#sk-container-id-3 div.sk-label input.sk-toggleable__control:checked~label.sk-toggleable__label {background-color: #d4ebff;}#sk-container-id-3 input.sk-hidden--visually {border: 0;clip: rect(1px 1px 1px 1px);clip: rect(1px, 1px, 1px, 1px);height: 1px;margin: -1px;overflow: hidden;padding: 0;position: absolute;width: 1px;}#sk-container-id-3 div.sk-estimator {font-family: monospace;background-color: #f0f8ff;border: 1px dotted black;border-radius: 0.25em;box-sizing: border-box;margin-bottom: 0.5em;}#sk-container-id-3 div.sk-estimator:hover {background-color: #d4ebff;}#sk-container-id-3 div.sk-parallel-item::after {content: \"\";width: 100%;border-bottom: 1px solid gray;flex-grow: 1;}#sk-container-id-3 div.sk-label:hover label.sk-toggleable__label {background-color: #d4ebff;}#sk-container-id-3 div.sk-serial::before {content: \"\";position: absolute;border-left: 1px solid gray;box-sizing: border-box;top: 0;bottom: 0;left: 50%;z-index: 0;}#sk-container-id-3 div.sk-serial {display: flex;flex-direction: column;align-items: center;background-color: white;padding-right: 0.2em;padding-left: 0.2em;position: relative;}#sk-container-id-3 div.sk-item {position: relative;z-index: 1;}#sk-container-id-3 div.sk-parallel {display: flex;align-items: stretch;justify-content: center;background-color: white;position: relative;}#sk-container-id-3 div.sk-item::before, #sk-container-id-3 div.sk-parallel-item::before {content: \"\";position: absolute;border-left: 1px solid gray;box-sizing: border-box;top: 0;bottom: 0;left: 50%;z-index: -1;}#sk-container-id-3 div.sk-parallel-item {display: flex;flex-direction: column;z-index: 1;position: relative;background-color: white;}#sk-container-id-3 div.sk-parallel-item:first-child::after {align-self: flex-end;width: 50%;}#sk-container-id-3 div.sk-parallel-item:last-child::after {align-self: flex-start;width: 50%;}#sk-container-id-3 div.sk-parallel-item:only-child::after {width: 0;}#sk-container-id-3 div.sk-dashed-wrapped {border: 1px dashed gray;margin: 0 0.4em 0.5em 0.4em;box-sizing: border-box;padding-bottom: 0.4em;background-color: white;}#sk-container-id-3 div.sk-label label {font-family: monospace;font-weight: bold;display: inline-block;line-height: 1.2em;}#sk-container-id-3 div.sk-label-container {text-align: center;}#sk-container-id-3 div.sk-container {/* jupyter's `normalize.less` sets `[hidden] { display: none; }` but bootstrap.min.css set `[hidden] { display: none !important; }` so we also need the `!important` here to be able to override the default hidden behavior on the sphinx rendered scikit-learn.org. See: https://github.com/scikit-learn/scikit-learn/issues/21755 */display: inline-block !important;position: relative;}#sk-container-id-3 div.sk-text-repr-fallback {display: none;}</style><div id=\"sk-container-id-3\" class=\"sk-top-container\"><div class=\"sk-text-repr-fallback\"><pre>LogisticRegression()</pre><b>In a Jupyter environment, please rerun this cell to show the HTML representation or trust the notebook. <br />On GitHub, the HTML representation is unable to render, please try loading this page with nbviewer.org.</b></div><div class=\"sk-container\" hidden><div class=\"sk-item\"><div class=\"sk-estimator sk-toggleable\"><input class=\"sk-toggleable__control sk-hidden--visually\" id=\"sk-estimator-id-3\" type=\"checkbox\" checked><label for=\"sk-estimator-id-3\" class=\"sk-toggleable__label sk-toggleable__label-arrow\">LogisticRegression</label><div class=\"sk-toggleable__content\"><pre>LogisticRegression()</pre></div></div></div></div></div>"
      ],
      "text/plain": [
       "LogisticRegression()"
      ]
     },
     "execution_count": 28,
     "metadata": {},
     "output_type": "execute_result"
    }
   ],
   "source": [
    "logit4 = LogisticRegression()\n",
    "logit4.fit(X_train4, y_train4)"
   ]
  },
  {
   "cell_type": "code",
   "execution_count": 29,
   "id": "ffea2fec-d3b9-45b5-8e68-d12847b75e56",
   "metadata": {},
   "outputs": [
    {
     "data": {
      "text/plain": [
       "array([0, 0, 1, 0, 1])"
      ]
     },
     "execution_count": 29,
     "metadata": {},
     "output_type": "execute_result"
    }
   ],
   "source": [
    "y_pred4 = logit4.predict(X_train4)\n",
    "y_pred4[:5]"
   ]
  },
  {
   "cell_type": "code",
   "execution_count": 30,
   "id": "25966752-2e77-4a5a-bb4d-1a78066255c4",
   "metadata": {},
   "outputs": [
    {
     "data": {
      "text/plain": [
       "array([[0.65169918, 0.34830082],\n",
       "       [0.85889123, 0.14110877],\n",
       "       [0.16278493, 0.83721507],\n",
       "       [0.88898691, 0.11101309],\n",
       "       [0.35077326, 0.64922674]])"
      ]
     },
     "execution_count": 30,
     "metadata": {},
     "output_type": "execute_result"
    }
   ],
   "source": [
    "y_pred_prob4 = logit4.predict_proba(X_train4)\n",
    "y_pred_prob4[:5]"
   ]
  },
  {
   "cell_type": "code",
   "execution_count": 31,
   "id": "ac96ea2a-bf8d-4bca-8d46-25db76817602",
   "metadata": {},
   "outputs": [
    {
     "name": "stdout",
     "output_type": "stream",
     "text": [
      "Accuracy Scores:\n",
      "\n",
      "Baseline Accuracy:\n",
      "61.616162%\n",
      "\n",
      "Model 4 Training Set:\n",
      "79.919679%\n",
      "\n",
      "Model 4 Validation Set:\n",
      "80.841121%\n",
      "\n",
      "Model 4 Overfit:\n",
      "-0.921443%\n",
      "\n",
      "Model 4 Beat Baseline Accuracy by:\n",
      "18.303517%\n"
     ]
    }
   ],
   "source": [
    "model_4_train = logit4.score(X_train4,y_train4)\n",
    "model_4_validate = logit4.score(X_validate4,y_validate4)\n",
    "model_4_overfit = model_4_train-model_4_validate\n",
    "model_4_beat_baseline = model_4_train - baseline_accuracy\n",
    "\n",
    "print(f'Accuracy Scores:\\n\\\n",
    "\\nBaseline Accuracy:\\n{baseline_accuracy:4%}\\\n",
    "\\n\\nModel 4 Training Set:\\n{model_4_train:4%}\\n\\nModel 4 Validation Set:\\n{model_4_validate:4%}\\n\\nModel 4 Overfit:\\n{model_4_overfit:4%}\\n\\n\\\n",
    "Model 4 Beat Baseline Accuracy by:\\n{model_4_beat_baseline:4%}')"
   ]
  },
  {
   "cell_type": "code",
   "execution_count": 32,
   "id": "12c5c6fb-9b95-4361-a332-637d9cd8f3a1",
   "metadata": {},
   "outputs": [],
   "source": [
    "titanic = get_titanic_data()"
   ]
  },
  {
   "cell_type": "code",
   "execution_count": 33,
   "id": "4cf365a2-1c2d-4598-b8c9-6a0d1f9d0729",
   "metadata": {},
   "outputs": [],
   "source": [
    "titanic = prep_titanic(titanic)"
   ]
  },
  {
   "cell_type": "code",
   "execution_count": 34,
   "id": "ad644cd4-af89-468b-a465-7918e2a69d32",
   "metadata": {},
   "outputs": [],
   "source": [
    "train, validate, test = tvt(titanic, ['survived'])\n",
    "\n",
    "X_train5 = train.drop(columns=['survived'])\n",
    "y_train5 = train.survived\n",
    "\n",
    "X_validate5 = validate.drop(columns=['survived'])\n",
    "y_validate5 = validate.survived\n",
    "\n",
    "X_test5 = test.drop(columns=['survived'])\n",
    "y_test5 = test.survived"
   ]
  },
  {
   "cell_type": "code",
   "execution_count": 35,
   "id": "31f4f416-e943-4630-9fcf-6958460035c2",
   "metadata": {},
   "outputs": [
    {
     "data": {
      "text/html": [
       "<style>#sk-container-id-4 {color: black;background-color: white;}#sk-container-id-4 pre{padding: 0;}#sk-container-id-4 div.sk-toggleable {background-color: white;}#sk-container-id-4 label.sk-toggleable__label {cursor: pointer;display: block;width: 100%;margin-bottom: 0;padding: 0.3em;box-sizing: border-box;text-align: center;}#sk-container-id-4 label.sk-toggleable__label-arrow:before {content: \"▸\";float: left;margin-right: 0.25em;color: #696969;}#sk-container-id-4 label.sk-toggleable__label-arrow:hover:before {color: black;}#sk-container-id-4 div.sk-estimator:hover label.sk-toggleable__label-arrow:before {color: black;}#sk-container-id-4 div.sk-toggleable__content {max-height: 0;max-width: 0;overflow: hidden;text-align: left;background-color: #f0f8ff;}#sk-container-id-4 div.sk-toggleable__content pre {margin: 0.2em;color: black;border-radius: 0.25em;background-color: #f0f8ff;}#sk-container-id-4 input.sk-toggleable__control:checked~div.sk-toggleable__content {max-height: 200px;max-width: 100%;overflow: auto;}#sk-container-id-4 input.sk-toggleable__control:checked~label.sk-toggleable__label-arrow:before {content: \"▾\";}#sk-container-id-4 div.sk-estimator input.sk-toggleable__control:checked~label.sk-toggleable__label {background-color: #d4ebff;}#sk-container-id-4 div.sk-label input.sk-toggleable__control:checked~label.sk-toggleable__label {background-color: #d4ebff;}#sk-container-id-4 input.sk-hidden--visually {border: 0;clip: rect(1px 1px 1px 1px);clip: rect(1px, 1px, 1px, 1px);height: 1px;margin: -1px;overflow: hidden;padding: 0;position: absolute;width: 1px;}#sk-container-id-4 div.sk-estimator {font-family: monospace;background-color: #f0f8ff;border: 1px dotted black;border-radius: 0.25em;box-sizing: border-box;margin-bottom: 0.5em;}#sk-container-id-4 div.sk-estimator:hover {background-color: #d4ebff;}#sk-container-id-4 div.sk-parallel-item::after {content: \"\";width: 100%;border-bottom: 1px solid gray;flex-grow: 1;}#sk-container-id-4 div.sk-label:hover label.sk-toggleable__label {background-color: #d4ebff;}#sk-container-id-4 div.sk-serial::before {content: \"\";position: absolute;border-left: 1px solid gray;box-sizing: border-box;top: 0;bottom: 0;left: 50%;z-index: 0;}#sk-container-id-4 div.sk-serial {display: flex;flex-direction: column;align-items: center;background-color: white;padding-right: 0.2em;padding-left: 0.2em;position: relative;}#sk-container-id-4 div.sk-item {position: relative;z-index: 1;}#sk-container-id-4 div.sk-parallel {display: flex;align-items: stretch;justify-content: center;background-color: white;position: relative;}#sk-container-id-4 div.sk-item::before, #sk-container-id-4 div.sk-parallel-item::before {content: \"\";position: absolute;border-left: 1px solid gray;box-sizing: border-box;top: 0;bottom: 0;left: 50%;z-index: -1;}#sk-container-id-4 div.sk-parallel-item {display: flex;flex-direction: column;z-index: 1;position: relative;background-color: white;}#sk-container-id-4 div.sk-parallel-item:first-child::after {align-self: flex-end;width: 50%;}#sk-container-id-4 div.sk-parallel-item:last-child::after {align-self: flex-start;width: 50%;}#sk-container-id-4 div.sk-parallel-item:only-child::after {width: 0;}#sk-container-id-4 div.sk-dashed-wrapped {border: 1px dashed gray;margin: 0 0.4em 0.5em 0.4em;box-sizing: border-box;padding-bottom: 0.4em;background-color: white;}#sk-container-id-4 div.sk-label label {font-family: monospace;font-weight: bold;display: inline-block;line-height: 1.2em;}#sk-container-id-4 div.sk-label-container {text-align: center;}#sk-container-id-4 div.sk-container {/* jupyter's `normalize.less` sets `[hidden] { display: none; }` but bootstrap.min.css set `[hidden] { display: none !important; }` so we also need the `!important` here to be able to override the default hidden behavior on the sphinx rendered scikit-learn.org. See: https://github.com/scikit-learn/scikit-learn/issues/21755 */display: inline-block !important;position: relative;}#sk-container-id-4 div.sk-text-repr-fallback {display: none;}</style><div id=\"sk-container-id-4\" class=\"sk-top-container\"><div class=\"sk-text-repr-fallback\"><pre>LogisticRegression()</pre><b>In a Jupyter environment, please rerun this cell to show the HTML representation or trust the notebook. <br />On GitHub, the HTML representation is unable to render, please try loading this page with nbviewer.org.</b></div><div class=\"sk-container\" hidden><div class=\"sk-item\"><div class=\"sk-estimator sk-toggleable\"><input class=\"sk-toggleable__control sk-hidden--visually\" id=\"sk-estimator-id-4\" type=\"checkbox\" checked><label for=\"sk-estimator-id-4\" class=\"sk-toggleable__label sk-toggleable__label-arrow\">LogisticRegression</label><div class=\"sk-toggleable__content\"><pre>LogisticRegression()</pre></div></div></div></div></div>"
      ],
      "text/plain": [
       "LogisticRegression()"
      ]
     },
     "execution_count": 35,
     "metadata": {},
     "output_type": "execute_result"
    }
   ],
   "source": [
    "logit5 = LogisticRegression()\n",
    "logit5.fit(X_train5, y_train5)"
   ]
  },
  {
   "cell_type": "code",
   "execution_count": 36,
   "id": "318d7473-4bb2-4f91-b115-1554ce718aff",
   "metadata": {},
   "outputs": [
    {
     "data": {
      "text/plain": [
       "array([0, 0, 1, 0, 1])"
      ]
     },
     "execution_count": 36,
     "metadata": {},
     "output_type": "execute_result"
    }
   ],
   "source": [
    "y_pred5 = logit5.predict(X_train5)\n",
    "y_pred5[:5]"
   ]
  },
  {
   "cell_type": "code",
   "execution_count": 37,
   "id": "5739f65f-0d44-4867-8967-b85d682515a7",
   "metadata": {},
   "outputs": [
    {
     "data": {
      "text/plain": [
       "array([[0.66588286, 0.33411714],\n",
       "       [0.865785  , 0.134215  ],\n",
       "       [0.17964589, 0.82035411],\n",
       "       [0.89515206, 0.10484794],\n",
       "       [0.32515584, 0.67484416]])"
      ]
     },
     "execution_count": 37,
     "metadata": {},
     "output_type": "execute_result"
    }
   ],
   "source": [
    "y_pred_prob5 = logit5.predict_proba(X_train5)\n",
    "y_pred_prob5[:5]"
   ]
  },
  {
   "cell_type": "code",
   "execution_count": 38,
   "id": "4ca17e72-b71d-4051-9406-d136b6fb4807",
   "metadata": {
    "tags": []
   },
   "outputs": [
    {
     "name": "stdout",
     "output_type": "stream",
     "text": [
      "Accuracy Scores:\n",
      "\n",
      "Baseline Accuracy:\n",
      "61.616162%\n",
      "\n",
      "Model 5 Training Set:\n",
      "80.522088%\n",
      "\n",
      "Model 5 Validation Set:\n",
      "80.373832%\n",
      "\n",
      "Model 5 Overfit:\n",
      "0.148257%\n",
      "\n",
      "Model 5 Beat Baseline Accuracy by:\n",
      "18.905927%\n"
     ]
    }
   ],
   "source": [
    "model_5_train = logit5.score(X_train5,y_train5)\n",
    "model_5_validate = logit5.score(X_validate5,y_validate5)\n",
    "model_5_overfit = model_5_train-model_5_validate\n",
    "model_5_beat_baseline = model_5_train - baseline_accuracy\n",
    "\n",
    "print(f'Accuracy Scores:\\n\\\n",
    "\\nBaseline Accuracy:\\n{baseline_accuracy:5%}\\\n",
    "\\n\\nModel 5 Training Set:\\n{model_5_train:5%}\\n\\nModel 5 Validation Set:\\n{model_5_validate:5%}\\n\\nModel 5 Overfit:\\n{model_5_overfit:5%}\\n\\n\\\n",
    "Model 5 Beat Baseline Accuracy by:\\n{model_5_beat_baseline:5%}')"
   ]
  },
  {
   "cell_type": "code",
   "execution_count": 39,
   "id": "5fe276a7-def7-4261-b794-963325a23d6a",
   "metadata": {
    "tags": []
   },
   "outputs": [
    {
     "name": "stdout",
     "output_type": "stream",
     "text": [
      "Baseline Accuracy:\n",
      "61.616162%\n",
      "\n",
      "Accuracy Scores:\n",
      "\n",
      "Model 1 Training Set:\n",
      "69.477912%\n",
      "Model 1 Beat Baseline Accuracy by:\n",
      "7.861750%\n",
      "\n",
      "Model 2 Training Set:\n",
      "78.714859%\n",
      "Model 2 Beat Baseline Accuracy by:\n",
      "17.098698%\n",
      "\n",
      "Model 3 Training Set:\n",
      "78.313253%\n",
      "Model 3 Beat Baseline Accuracy by:\n",
      "16.697091%\n",
      "\n",
      "Model 4 Training Set:\n",
      "79.919679%\n",
      "Model 4 Beat Baseline Accuracy by:\n",
      "18.303517%\n",
      "\n",
      "Model 5 Training Set:\n",
      "80.522088%\n",
      "Model 5 Beat Baseline Accuracy by:\n",
      "18.905927%\n"
     ]
    }
   ],
   "source": [
    "print(f'Baseline Accuracy:\\n{baseline_accuracy:2%}\\\n",
    "\\n\\nAccuracy Scores:\\\n",
    "\\n\\nModel 1 Training Set:\\n{model_1_train:2%}\\n\\\n",
    "Model 1 Beat Baseline Accuracy by:\\n{model_1_beat_baseline:2%}\\\n",
    "\\n\\nModel 2 Training Set:\\n{model_2_train:2%}\\n\\\n",
    "Model 2 Beat Baseline Accuracy by:\\n{model_2_beat_baseline:2%}\\\n",
    "\\n\\nModel 3 Training Set:\\n{model_3_train:2%}\\n\\\n",
    "Model 3 Beat Baseline Accuracy by:\\n{model_3_beat_baseline:2%}\\\n",
    "\\n\\nModel 4 Training Set:\\n{model_4_train:2%}\\n\\\n",
    "Model 4 Beat Baseline Accuracy by:\\n{model_4_beat_baseline:2%}\\\n",
    "\\n\\nModel 5 Training Set:\\n{model_5_train:2%}\\n\\\n",
    "Model 5 Beat Baseline Accuracy by:\\n{model_5_beat_baseline:2%}')"
   ]
  },
  {
   "cell_type": "markdown",
   "id": "01a3918c-9b9f-4c50-a819-8aff59c20414",
   "metadata": {},
   "source": [
    "## Use your best 3 models to predict and evaluate on your validate sample."
   ]
  },
  {
   "cell_type": "markdown",
   "id": "65451354-b323-4691-b041-dc0405dab0e5",
   "metadata": {},
   "source": [
    "Model's 5, 4, and 2 performed the best."
   ]
  },
  {
   "cell_type": "code",
   "execution_count": 40,
   "id": "f9715872-d842-439e-b5ec-eef363cf257f",
   "metadata": {
    "tags": []
   },
   "outputs": [
    {
     "name": "stdout",
     "output_type": "stream",
     "text": [
      "Baseline Accuracy:\n",
      "61.616162%\n",
      "\n",
      "Model 2 Validate Set:\n",
      "80.373832%\n",
      "\n",
      "Model 4 Validate Set:\n",
      "80.841121%\n",
      "\n",
      "Model 5 Validate Set:\n",
      "80.373832%\n"
     ]
    }
   ],
   "source": [
    "print(f'Baseline Accuracy:\\n{baseline_accuracy:2%}\\n\\\n",
    "\\nModel 2 Validate Set:\\n{model_2_validate:2%}\\n\\\n",
    "\\nModel 4 Validate Set:\\n{model_4_validate:2%}\\n\\\n",
    "\\nModel 5 Validate Set:\\n{model_5_validate:2%}')"
   ]
  },
  {
   "cell_type": "markdown",
   "id": "1dc908e4-2604-445c-81a1-c331bdd0024c",
   "metadata": {},
   "source": [
    "## Choose you best model from the validation performation, and evaluate it on the test dataset. How do the performance metrics compare to validate? to train?"
   ]
  },
  {
   "cell_type": "code",
   "execution_count": 43,
   "id": "d062b530-c04e-4631-848f-d5c79f7992e3",
   "metadata": {
    "tags": []
   },
   "outputs": [
    {
     "name": "stdout",
     "output_type": "stream",
     "text": [
      "Accuracy Scores:\n",
      "\n",
      "Baseline Accuracy:\n",
      "61.616162%\n",
      "\n",
      "Model 4 Training Set:\n",
      "79.919679%\n",
      "\n",
      "Model 4 Validation Set:\n",
      "80.841121%\n",
      "\n",
      "Model 4 Test Set:\n",
      "77.653631%\n",
      "\n",
      "Model 4 Overfit:\n",
      "-0.921443%\n",
      "\n",
      "Model 4 Test Set Beat Baseline Accuracy by:\n",
      "16.037470%\n"
     ]
    }
   ],
   "source": [
    "model_4_test = logit4.score(X_test4,y_test4)\n",
    "model_4_test_beat_baseline = model_4_test - baseline_accuracy\n",
    "\n",
    "print(f'Accuracy Scores:\\n\\\n",
    "\\nBaseline Accuracy:\\n{baseline_accuracy:4%}\\\n",
    "\\n\\nModel 4 Training Set:\\n{model_4_train:4%}\\n\\n\\\n",
    "Model 4 Validation Set:\\n{model_4_validate:4%}\\n\\n\\\n",
    "Model 4 Test Set:\\n{model_4_test:4%}\\n\\n\\\n",
    "Model 4 Overfit:\\n{model_4_overfit:4%}\\n\\n\\\n",
    "Model 4 Test Set Beat Baseline Accuracy by:\\n{model_4_test_beat_baseline:4%}')"
   ]
  },
  {
   "cell_type": "markdown",
   "id": "64530938-c972-4f5c-b1e1-faaad4a6c0ec",
   "metadata": {},
   "source": [
    "## Bonus1 How do different strategies for handling the missing values in the age column affect model performance?"
   ]
  },
  {
   "cell_type": "code",
   "execution_count": 63,
   "id": "951e79e7-8082-4841-b64a-7b5e234b3352",
   "metadata": {
    "tags": []
   },
   "outputs": [],
   "source": [
    "titanic = get_titanic_data()"
   ]
  },
  {
   "cell_type": "code",
   "execution_count": 64,
   "id": "3c9c80f5-8535-4b6e-9ce3-3f89e5e48377",
   "metadata": {
    "tags": []
   },
   "outputs": [
    {
     "data": {
      "text/plain": [
       "age\n",
       "24.0    30\n",
       "Name: count, dtype: int64"
      ]
     },
     "execution_count": 64,
     "metadata": {},
     "output_type": "execute_result"
    }
   ],
   "source": [
    "# code to determine which age occurs the most \n",
    "titanic['age'].value_counts().head(1)"
   ]
  },
  {
   "cell_type": "code",
   "execution_count": 66,
   "id": "2c5277e0-2001-44ac-916d-8b827744d45e",
   "metadata": {
    "tags": []
   },
   "outputs": [],
   "source": [
    "'''\n",
    "Prior prep method:\n",
    "titanic = dropped(titanic,columns={'deck', 'embark_town', 'pclass', 'passenger_id'})\n",
    "    round(titanic['age'].mean())\n",
    "    top_embarked = titanic['embarked'].describe()['top']\n",
    "    titanic['embarked'] = titanic['embarked'].fillna(value='S')\n",
    "    titanic['age'] = titanic['age'].fillna(value='30').astype(int)\n",
    "    titanic['sex_encoded'] = titanic['sex'].map({'male': 1, 'female': 0})\n",
    "    titanic['embarked_encoded'] = titanic['embarked'].map({'S': 1, 'C': 0, 'Q':2})\n",
    "    titanic['class_encoded'] = titanic['class'].map({'Second': 1, 'First': 0, 'Third':2})\n",
    "    titanic = dropped(titanic,columns={'sex', 'embarked', 'class'})\n",
    "'''\n",
    "# different strategy for handling missing values in age column\n",
    "titanic = dropped(titanic,columns={'deck', 'embark_town', 'pclass', 'passenger_id'})\n",
    "top_embarked = titanic['embarked'].describe()['top']\n",
    "titanic['embarked'] = titanic['embarked'].fillna(value='S')\n",
    "# changing value from average of 30 to most occurances 24\n",
    "titanic['age'] = titanic['age'].fillna(value='24').astype(int)\n",
    "titanic['sex_encoded'] = titanic['sex'].map({'male': 1, 'female': 0})\n",
    "titanic['embarked_encoded'] = titanic['embarked'].map({'S': 1, 'C': 0, 'Q':2})\n",
    "titanic['class_encoded'] = titanic['class'].map({'Second': 1, 'First': 0, 'Third':2})\n",
    "titanic = dropped(titanic,columns={'sex', 'embarked', 'class'})"
   ]
  },
  {
   "cell_type": "code",
   "execution_count": 67,
   "id": "fcf43890-995c-4cd4-b3f8-f638d1d2e33e",
   "metadata": {
    "tags": []
   },
   "outputs": [],
   "source": [
    "train, validate, test = tvt(titanic, ['survived'])"
   ]
  },
  {
   "cell_type": "code",
   "execution_count": 68,
   "id": "9d4788aa-5597-4e74-8fa1-cf8d7f6885f5",
   "metadata": {
    "tags": []
   },
   "outputs": [],
   "source": [
    "X_train1 = train.drop(columns=['survived', 'parch', 'sex_encoded', 'embarked_encoded', 'alone', 'sibsp'])\n",
    "y_train1 = train.survived\n",
    "\n",
    "X_validate1 = validate.drop(columns=['survived', 'parch', 'sex_encoded', 'embarked_encoded', 'alone', 'sibsp'])\n",
    "y_validate1 = validate.survived\n",
    "\n",
    "X_test1 = test.drop(columns=['survived', 'parch', 'sex_encoded', 'embarked_encoded', 'alone', 'sibsp'])\n",
    "y_test1 = test.survived"
   ]
  },
  {
   "cell_type": "code",
   "execution_count": 69,
   "id": "f85ad872-e96c-4a94-a04a-515c63a25ea6",
   "metadata": {
    "tags": []
   },
   "outputs": [
    {
     "data": {
      "text/html": [
       "<style>#sk-container-id-5 {color: black;background-color: white;}#sk-container-id-5 pre{padding: 0;}#sk-container-id-5 div.sk-toggleable {background-color: white;}#sk-container-id-5 label.sk-toggleable__label {cursor: pointer;display: block;width: 100%;margin-bottom: 0;padding: 0.3em;box-sizing: border-box;text-align: center;}#sk-container-id-5 label.sk-toggleable__label-arrow:before {content: \"▸\";float: left;margin-right: 0.25em;color: #696969;}#sk-container-id-5 label.sk-toggleable__label-arrow:hover:before {color: black;}#sk-container-id-5 div.sk-estimator:hover label.sk-toggleable__label-arrow:before {color: black;}#sk-container-id-5 div.sk-toggleable__content {max-height: 0;max-width: 0;overflow: hidden;text-align: left;background-color: #f0f8ff;}#sk-container-id-5 div.sk-toggleable__content pre {margin: 0.2em;color: black;border-radius: 0.25em;background-color: #f0f8ff;}#sk-container-id-5 input.sk-toggleable__control:checked~div.sk-toggleable__content {max-height: 200px;max-width: 100%;overflow: auto;}#sk-container-id-5 input.sk-toggleable__control:checked~label.sk-toggleable__label-arrow:before {content: \"▾\";}#sk-container-id-5 div.sk-estimator input.sk-toggleable__control:checked~label.sk-toggleable__label {background-color: #d4ebff;}#sk-container-id-5 div.sk-label input.sk-toggleable__control:checked~label.sk-toggleable__label {background-color: #d4ebff;}#sk-container-id-5 input.sk-hidden--visually {border: 0;clip: rect(1px 1px 1px 1px);clip: rect(1px, 1px, 1px, 1px);height: 1px;margin: -1px;overflow: hidden;padding: 0;position: absolute;width: 1px;}#sk-container-id-5 div.sk-estimator {font-family: monospace;background-color: #f0f8ff;border: 1px dotted black;border-radius: 0.25em;box-sizing: border-box;margin-bottom: 0.5em;}#sk-container-id-5 div.sk-estimator:hover {background-color: #d4ebff;}#sk-container-id-5 div.sk-parallel-item::after {content: \"\";width: 100%;border-bottom: 1px solid gray;flex-grow: 1;}#sk-container-id-5 div.sk-label:hover label.sk-toggleable__label {background-color: #d4ebff;}#sk-container-id-5 div.sk-serial::before {content: \"\";position: absolute;border-left: 1px solid gray;box-sizing: border-box;top: 0;bottom: 0;left: 50%;z-index: 0;}#sk-container-id-5 div.sk-serial {display: flex;flex-direction: column;align-items: center;background-color: white;padding-right: 0.2em;padding-left: 0.2em;position: relative;}#sk-container-id-5 div.sk-item {position: relative;z-index: 1;}#sk-container-id-5 div.sk-parallel {display: flex;align-items: stretch;justify-content: center;background-color: white;position: relative;}#sk-container-id-5 div.sk-item::before, #sk-container-id-5 div.sk-parallel-item::before {content: \"\";position: absolute;border-left: 1px solid gray;box-sizing: border-box;top: 0;bottom: 0;left: 50%;z-index: -1;}#sk-container-id-5 div.sk-parallel-item {display: flex;flex-direction: column;z-index: 1;position: relative;background-color: white;}#sk-container-id-5 div.sk-parallel-item:first-child::after {align-self: flex-end;width: 50%;}#sk-container-id-5 div.sk-parallel-item:last-child::after {align-self: flex-start;width: 50%;}#sk-container-id-5 div.sk-parallel-item:only-child::after {width: 0;}#sk-container-id-5 div.sk-dashed-wrapped {border: 1px dashed gray;margin: 0 0.4em 0.5em 0.4em;box-sizing: border-box;padding-bottom: 0.4em;background-color: white;}#sk-container-id-5 div.sk-label label {font-family: monospace;font-weight: bold;display: inline-block;line-height: 1.2em;}#sk-container-id-5 div.sk-label-container {text-align: center;}#sk-container-id-5 div.sk-container {/* jupyter's `normalize.less` sets `[hidden] { display: none; }` but bootstrap.min.css set `[hidden] { display: none !important; }` so we also need the `!important` here to be able to override the default hidden behavior on the sphinx rendered scikit-learn.org. See: https://github.com/scikit-learn/scikit-learn/issues/21755 */display: inline-block !important;position: relative;}#sk-container-id-5 div.sk-text-repr-fallback {display: none;}</style><div id=\"sk-container-id-5\" class=\"sk-top-container\"><div class=\"sk-text-repr-fallback\"><pre>LogisticRegression()</pre><b>In a Jupyter environment, please rerun this cell to show the HTML representation or trust the notebook. <br />On GitHub, the HTML representation is unable to render, please try loading this page with nbviewer.org.</b></div><div class=\"sk-container\" hidden><div class=\"sk-item\"><div class=\"sk-estimator sk-toggleable\"><input class=\"sk-toggleable__control sk-hidden--visually\" id=\"sk-estimator-id-5\" type=\"checkbox\" checked><label for=\"sk-estimator-id-5\" class=\"sk-toggleable__label sk-toggleable__label-arrow\">LogisticRegression</label><div class=\"sk-toggleable__content\"><pre>LogisticRegression()</pre></div></div></div></div></div>"
      ],
      "text/plain": [
       "LogisticRegression()"
      ]
     },
     "execution_count": 69,
     "metadata": {},
     "output_type": "execute_result"
    }
   ],
   "source": [
    "logit1 = LogisticRegression()\n",
    "logit1.fit(X_train1, y_train1)"
   ]
  },
  {
   "cell_type": "code",
   "execution_count": 70,
   "id": "a34e279a-bf61-4013-a53c-207cd6e28b42",
   "metadata": {
    "tags": []
   },
   "outputs": [
    {
     "data": {
      "text/plain": [
       "array([1, 0, 0, 0, 0])"
      ]
     },
     "execution_count": 70,
     "metadata": {},
     "output_type": "execute_result"
    }
   ],
   "source": [
    "y_pred1 = logit1.predict(X_train1)\n",
    "y_pred1[:5]"
   ]
  },
  {
   "cell_type": "code",
   "execution_count": 71,
   "id": "21d940b1-1d9b-410b-903d-5f98961bb7fd",
   "metadata": {
    "tags": []
   },
   "outputs": [
    {
     "data": {
      "text/plain": [
       "array([[0.46963168, 0.53036832],\n",
       "       [0.73051559, 0.26948441],\n",
       "       [0.54539842, 0.45460158],\n",
       "       [0.77643769, 0.22356231],\n",
       "       [0.75197833, 0.24802167]])"
      ]
     },
     "execution_count": 71,
     "metadata": {},
     "output_type": "execute_result"
    }
   ],
   "source": [
    "y_pred_prob1 = logit1.predict_proba(X_train1)\n",
    "y_pred_prob1[:5]"
   ]
  },
  {
   "cell_type": "code",
   "execution_count": 72,
   "id": "308f0652-9096-444b-8f02-b07586dd1966",
   "metadata": {
    "tags": []
   },
   "outputs": [
    {
     "name": "stdout",
     "output_type": "stream",
     "text": [
      "Accuracy Scores:\n",
      "\n",
      "Baseline Accuracy:\n",
      "61.616162%\n",
      "\n",
      "Model 1 Training Set:\n",
      "70.281124%\n",
      "\n",
      "Model 1 Validation Set:\n",
      "70.093458%\n",
      "\n",
      "Model 1 Overfit:\n",
      "0.187667%\n",
      "\n",
      "Model 1 Beat Baseline Accuracy by:\n",
      "8.664963%\n"
     ]
    }
   ],
   "source": [
    "model_1_train = logit1.score(X_train1,y_train1)\n",
    "model_1_validate = logit1.score(X_validate1,y_validate1)\n",
    "model_1_overfit = model_1_train-model_1_validate\n",
    "model_1_beat_baseline = model_1_train - baseline_accuracy\n",
    "\n",
    "\n",
    "print(f'Accuracy Scores:\\n\\\n",
    "\\nBaseline Accuracy:\\n{baseline_accuracy:2%}\\\n",
    "\\n\\nModel 1 Training Set:\\n{model_1_train:2%}\\n\\nModel 1 Validation Set:\\n{model_1_validate:2%}\\n\\nModel 1 Overfit:\\n{model_1_overfit:2%}\\n\\n\\\n",
    "Model 1 Beat Baseline Accuracy by:\\n{model_1_beat_baseline:2%}')"
   ]
  },
  {
   "cell_type": "markdown",
   "id": "7e60e3cf-d54b-48a3-b2ec-4f12cc43d781",
   "metadata": {},
   "source": [
    "Original Model 1: \n",
    "Accuracy Scores:\n",
    "\n",
    "Baseline Accuracy:\n",
    "61.616162%\n",
    "Model 1 Training Set:\n",
    "69.477912%\n",
    "Model 1 Validation Set:\n",
    "70.560748%\n",
    "Model 1 Overfit:\n",
    "-1.082836%\n",
    "Model 1 Beat Baseline Accuracy by:\n",
    "7.861750%\n",
    "\n",
    "New Model 1:\n",
    "Accuracy Scores:\n",
    "\n",
    "Baseline Accuracy:\n",
    "61.616162%\n",
    "Model 1 Training Set:\n",
    "70.281124%\n",
    "Model 1 Validation Set:\n",
    "70.093458%\n",
    "Model 1 Overfit:\n",
    "0.187667%\n",
    "Model 1 Beat Baseline Accuracy by:\n",
    "8.664963%"
   ]
  },
  {
   "cell_type": "markdown",
   "id": "fb749a36-2092-4466-b478-7c74547e418a",
   "metadata": {},
   "source": [
    "### Answer: By filling the null values in the column age to the most occcuring instead of the average, our Model 1 got a better training set percentage but almost no change in our validation set."
   ]
  }
 ],
 "metadata": {
  "kernelspec": {
   "display_name": "Python 3 (ipykernel)",
   "language": "python",
   "name": "python3"
  },
  "language_info": {
   "codemirror_mode": {
    "name": "ipython",
    "version": 3
   },
   "file_extension": ".py",
   "mimetype": "text/x-python",
   "name": "python",
   "nbconvert_exporter": "python",
   "pygments_lexer": "ipython3",
   "version": "3.11.3"
  },
  "toc-autonumbering": false
 },
 "nbformat": 4,
 "nbformat_minor": 5
}
